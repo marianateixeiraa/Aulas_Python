{
  "nbformat": 4,
  "nbformat_minor": 0,
  "metadata": {
    "colab": {
      "name": "ExercícioAula10.ipynb",
      "provenance": [],
      "authorship_tag": "ABX9TyOFWr9is2yHl4uPpPoY1xQC",
      "include_colab_link": true
    },
    "kernelspec": {
      "name": "python3",
      "display_name": "Python 3"
    },
    "language_info": {
      "name": "python"
    }
  },
  "cells": [
    {
      "cell_type": "markdown",
      "metadata": {
        "id": "view-in-github",
        "colab_type": "text"
      },
      "source": [
        "<a href=\"https://colab.research.google.com/github/marianateixeiraa/Aulas_Python/blob/main/dir_exercise/Exerc%C3%ADcioAula10.ipynb\" target=\"_parent\"><img src=\"https://colab.research.google.com/assets/colab-badge.svg\" alt=\"Open In Colab\"/></a>"
      ]
    },
    {
      "cell_type": "markdown",
      "metadata": {
        "id": "nanRry1t19z2"
      },
      "source": [
        "1)Quantos intervalos (ou qual largura de intervalo) é preciso implementar para ter uma precisão de 1% no resultado numérico na integração de $f(x)$ de 0 a 10?\n",
        "$\\dfrac{R_{num}-R_{an}}{R_{an}} \\leq 1\\% $"
      ]
    },
    {
      "cell_type": "code",
      "metadata": {
        "colab": {
          "base_uri": "https://localhost:8080/"
        },
        "id": "qgrnImlX13YE",
        "outputId": "9347292f-807a-463b-81fa-7982825e1f98"
      },
      "source": [
        "import math\n",
        "import numpy as np\n",
        "\n",
        "x_i = 0\n",
        "x_f = 10\n",
        "n_steps = np.arange(10, 10000, 1)\n",
        "an = math.exp(0)-math.exp(-10)\n",
        "\n",
        "for i in n_steps:\n",
        "    dx = (x_f - x_i)/i\n",
        "    x = np.arange(x_i, x_f, dx)\n",
        "    S1 = 0\n",
        "    for xi in x:\n",
        "        S1 = S1 + math.exp(-xi)*dx\n",
        "    if (S1 - an)/an <= 0.01:\n",
        "        print(f\"Soma de {i} caixinhas =\", S1)\n",
        "        break"
      ],
      "execution_count": 3,
      "outputs": [
        {
          "output_type": "stream",
          "name": "stdout",
          "text": [
            "Soma de 502 caixinhas = 1.00994737378044\n"
          ]
        }
      ]
    },
    {
      "cell_type": "code",
      "metadata": {
        "colab": {
          "base_uri": "https://localhost:8080/",
          "height": 283
        },
        "id": "8oKBEoeY2kAk",
        "outputId": "9fc39317-31d6-44af-bb2e-cacaa362a2ed"
      },
      "source": [
        "import matplotlib.pyplot as plt\n",
        "\n",
        "x_i = 0\n",
        "x_f = 10\n",
        "dx = 0.1\n",
        "x = np.arange(x_i, x_f, dx)\n",
        "S = 0\n",
        "for xi in x:\n",
        "    S = S + math.exp(-(xi+dx))*dx \n",
        "\n",
        "y = [math.exp(-xi-dx) for xi in x] \n",
        "plt.bar(x, y, color=\"red\", align=\"edge\", width=0.1)\n",
        "x1 = np.linspace(0,10, 1000) # intervalo de 0 a 10, com 1000 divisões\n",
        "y1 = [math.exp(-xi) for xi in x1]\n",
        "plt.plot(x1, y1)\n",
        "plt.show()\n",
        "    \n",
        "print(\"Soma de 100 caixinhas =\", S)"
      ],
      "execution_count": 6,
      "outputs": [
        {
          "output_type": "display_data",
          "data": {
            "image/png": "[encoded data removed]",
            "text/plain": [
              "<Figure size 432x288 with 1 Axes>"
            ]
          },
          "metadata": {
            "needs_background": "light"
          }
        },
        {
          "output_type": "stream",
          "name": "stdout",
          "text": [
            "Soma de 100 caixinhas = 0.9507900267172598\n"
          ]
        }
      ]
    },
    {
      "cell_type": "code",
      "metadata": {
        "colab": {
          "base_uri": "https://localhost:8080/"
        },
        "id": "tbwqBU1x24YR",
        "outputId": "5ee5f1c8-c4cd-4045-d6c2-0b85db170f3e"
      },
      "source": [
        "x_i = 0\n",
        "x_f = 10\n",
        "dx = 0.01\n",
        "x = np.arange(x_i, x_f, dx)\n",
        "S = 0\n",
        "for xi in x:\n",
        "    S = S + ((math.exp(-(xi+dx)) + math.exp(-xi))/2)*dx \n",
        "    \n",
        "print(\"Soma de 1000 caixinhas =\", S)"
      ],
      "execution_count": 7,
      "outputs": [
        {
          "output_type": "stream",
          "name": "stdout",
          "text": [
            "Soma de 1000 caixinhas = 0.9999629330113492\n"
          ]
        }
      ]
    },
    {
      "cell_type": "code",
      "metadata": {
        "colab": {
          "base_uri": "https://localhost:8080/"
        },
        "id": "WIe2X_c227Ol",
        "outputId": "f6000649-abed-492c-9fac-3a280a4c948c"
      },
      "source": [
        "import numpy as np\n",
        "import math\n",
        "\n",
        "xi = 0\n",
        "xf = 2*math.pi\n",
        "n_steps = 10000\n",
        "dx = abs((xf - xi))/n_steps\n",
        "x = np.arange(xi, xf, dx)\n",
        "s1 = 0\n",
        "s2 = 0\n",
        "for i in x:\n",
        "    s1 = s1 + math.sin(i)*dx\n",
        "    s2 = s2 + math.cos(i)*dx\n",
        "\n",
        "print(\"Integral do seno de 0 a 2pi, soma de 10000 caixinhas =\", s1)\n",
        "print(\"Integral do cosseno de 0 a 2pi, soma de 10000 caixinhas =\", s2)"
      ],
      "execution_count": 8,
      "outputs": [
        {
          "output_type": "stream",
          "name": "stdout",
          "text": [
            "Integral do seno de 0 a 2pi, soma de 10000 caixinhas = -3.4143411059876175e-16\n",
            "Integral do cosseno de 0 a 2pi, soma de 10000 caixinhas = -1.2912847874302358e-16\n"
          ]
        }
      ]
    },
    {
      "cell_type": "code",
      "metadata": {
        "colab": {
          "base_uri": "https://localhost:8080/"
        },
        "id": "b-i1QYMi29oG",
        "outputId": "5573ccea-ecf5-4789-9c79-22580c8736e4"
      },
      "source": [
        "import numpy as np\n",
        "import math\n",
        "\n",
        "xi = 0\n",
        "xf = 10\n",
        "n_steps = 1000000\n",
        "dx = abs((xf - xi))/n_steps\n",
        "x = np.arange(xi, xf, dx)\n",
        "s1 = 0\n",
        "s2 = 0\n",
        "for i in x:\n",
        "    s1 = s1 + math.sinh(i)*dx\n",
        "    s2 = s2 + math.cosh(i)*dx\n",
        "\n",
        "print(\"Integral do seno hiperbólico de 0 a 2pi, soma de 1000000 caixinhas =\", s1)\n",
        "print(\"Integral do cosseno hiperbólico de 0 a 2pi, soma de 1000000 caixinhas =\", s2)"
      ],
      "execution_count": 9,
      "outputs": [
        {
          "output_type": "stream",
          "name": "stdout",
          "text": [
            "Integral do seno hiperbólico de 0 a 2pi, soma de 1000000 caixinhas = 11012.177854030622\n",
            "Integral do cosseno hiperbólico de 0 a 2pi, soma de 1000000 caixinhas = 11013.177813630555\n"
          ]
        }
      ]
    },
    {
      "cell_type": "code",
      "metadata": {
        "colab": {
          "base_uri": "https://localhost:8080/",
          "height": 541
        },
        "id": "QKFHn4cm3ACL",
        "outputId": "b09daab1-e7fa-4eee-d1ab-a116170f297d"
      },
      "source": [
        "import math\n",
        "import numpy as np\n",
        "import matplotlib.pyplot as plt\n",
        "\n",
        "\n",
        "def theta2_prime(t, theta1, g = 9.8, l = 1):\n",
        "    return -(g/l)*math.sin(theta1)\n",
        "\n",
        "def theta1_prime(t, theta2):\n",
        "    return theta2\n",
        "\n",
        "def euler_cromer_2order(theta1_prime, theta2_prime, t, theta1_0, theta2_0):\n",
        "    theta1 = [theta1_0]   \n",
        "    theta2 = [theta2_0]    \n",
        "    dt = t[1] - t[0]\n",
        "    for i in range(len(t)-1):\n",
        "        theta1_iplus1 = theta1[i] + theta1_prime(t[i], theta2[i])*dt\n",
        "        theta2_iplus1 = theta2[i] + theta2_prime(t[i], theta1[i])*dt\n",
        "        theta1.append(theta1_iplus1)\n",
        "        theta2.append(theta2_iplus1)\n",
        "    return theta1, theta2\n",
        "\n",
        "t = np.arange(0, 2, 0.001)\n",
        "a = math.pi/3\n",
        "theta1, theta2 = euler_cromer_2order(theta1_prime, theta2_prime, t, a, 0)\n",
        "\n",
        "\n",
        "plt.plot(t, theta1)\n",
        "plt.xlabel(\"t (s)\")\n",
        "plt.ylabel(\"ângulo (radianos)\")\n",
        "plt.show()\n",
        "plt.plot(t, theta2)\n",
        "plt.xlabel(\"t (s)\")\n",
        "plt.ylabel(\"velocidade angular (radianos/s)\")\n",
        "plt.show()"
      ],
      "execution_count": 10,
      "outputs": [
        {
          "output_type": "display_data",
          "data": {
            "image/png": "[encoded data removed]",
            "text/plain": [
              "<Figure size 432x288 with 1 Axes>"
            ]
          },
          "metadata": {
            "needs_background": "light"
          }
        },
        {
          "output_type": "display_data",
          "data": {
            "image/png": "[encoded data removed]",
            "text/plain": [
              "<Figure size 432x288 with 1 Axes>"
            ]
          },
          "metadata": {
            "needs_background": "light"
          }
        }
      ]
    },
    {
      "cell_type": "code",
      "metadata": {
        "colab": {
          "base_uri": "https://localhost:8080/",
          "height": 283
        },
        "id": "wBuw4wqB3Ky7",
        "outputId": "17c34c58-0b6e-441e-cffd-592d79107320"
      },
      "source": [
        "def pendulum_x(amplitude, length, theta, g):\n",
        "    import math\n",
        "    x = length*math.sin(theta)\n",
        "    return x \n",
        "\n",
        "def pendulum_y(amplitude, length, theta, g):\n",
        "    import math\n",
        "    y = - length*math.cos(theta)\n",
        "    return y \n",
        "\n",
        "x = []\n",
        "y = []\n",
        "for i in range(len(t)-1):\n",
        "    x.append(pendulum_x(a, 1, theta1[i], 9.8))\n",
        "    y.append(pendulum_y(a, 1, theta1[i], 9.8))\n",
        "\n",
        "plt.plot(x, y)\n",
        "plt.axis([-0.9, 0.9, -1.8, 0])\n",
        "plt.xlabel(\"x (m)\")\n",
        "plt.ylabel(\"y (m)\")\n",
        "plt.show() "
      ],
      "execution_count": 11,
      "outputs": [
        {
          "output_type": "display_data",
          "data": {
            "image/png": "[encoded data removed]",
            "text/plain": [
              "<Figure size 432x288 with 1 Axes>"
            ]
          },
          "metadata": {
            "needs_background": "light"
          }
        }
      ]
    },
    {
      "cell_type": "code",
      "metadata": {
        "colab": {
          "base_uri": "https://localhost:8080/",
          "height": 269
        },
        "id": "EfPW47Dc3Sb2",
        "outputId": "4e318cf3-0fe8-4f6f-9c7c-e36b8894b64c"
      },
      "source": [
        "import matplotlib.animation as animation\n",
        "from matplotlib import rc\n",
        "rc('animation', html='jshtml')\n",
        "from IPython.display import HTML, Image, display # For GIF\n",
        "\n",
        "fig, ax = plt.subplots()\n",
        "xdata, ydata = x, y\n",
        "ln, = plt.plot([], [], 'ro', animated = True)    ### A massa \n",
        "spring, = plt.plot([], [], 'b-', linewidth = 2)  ### A linha do pendulo\n",
        "traj, = plt.plot([], [],'g-', linewidth=1)         ### A trajetoria\n",
        "\n",
        "\n",
        "def init():\n",
        "   L = 1\n",
        "   ax.set_xlim(-1.1*L, 1.1*L)      ### O “quadro” e eixos, \n",
        "   ax.set_ylim(-1.1*L,0)           ### no caso do pendulo simples L delimita o tamanho\n",
        "   return ln,\n",
        "\n",
        "def draw(n):\n",
        "   spring.set_data([0.0, xdata[n]], [0.0,  ydata[n]])\n",
        "   ln.set_data(xdata[n], ydata[n])\n",
        "   traj.set_data(xdata[:n],ydata[:n])\n",
        "   return spring, ln, traj\n",
        "\n",
        "ani = animation.FuncAnimation(fig, draw, 301, interval= 1,  init_func=init, blit=True)\n",
        "# Save as GIF\n",
        "ani.save('anima_pendulo_simples.gif', writer='pillow', fps=60)"
      ],
      "execution_count": 12,
      "outputs": [
        {
          "output_type": "display_data",
          "data": {
            "image/png": "[encoded data removed]",
            "text/plain": [
              "<Figure size 432x288 with 1 Axes>"
            ]
          },
          "metadata": {
            "needs_background": "light"
          }
        }
      ]
    }
  ]
}