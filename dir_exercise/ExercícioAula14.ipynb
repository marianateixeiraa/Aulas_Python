{
  "nbformat": 4,
  "nbformat_minor": 0,
  "metadata": {
    "colab": {
      "name": "ExercícioAula14.ipynb",
      "provenance": [],
      "authorship_tag": "ABX9TyPAUyjKxja0YwZYyECeqNkz",
      "include_colab_link": true
    },
    "kernelspec": {
      "name": "python3",
      "display_name": "Python 3"
    },
    "language_info": {
      "name": "python"
    }
  },
  "cells": [
    {
      "cell_type": "markdown",
      "metadata": {
        "id": "view-in-github",
        "colab_type": "text"
      },
      "source": [
        "<a href=\"https://colab.research.google.com/github/marianateixeiraa/Aulas_Python/blob/main/dir_exercise/Exerc%C3%ADcioAula14.ipynb\" target=\"_parent\"><img src=\"https://colab.research.google.com/assets/colab-badge.svg\" alt=\"Open In Colab\"/></a>"
      ]
    },
    {
      "cell_type": "markdown",
      "metadata": {
        "id": "dYjO6RnBpfql"
      },
      "source": [
        "1. Escreva uma função booleana  chamada `entre`  que tome dois objetos MeuTempo, t1 e t2 , como argumentos, e retorne `True` se um terceiro objeto MeuTempo invocado estiver entre os dois tempos. Suponha que o tempo t1 <= t2 , e faça o teste fechado no limite inferior e abra no limite superior, isto é, retorne True se t1 <= obj < t2."
      ]
    },
    {
      "cell_type": "code",
      "metadata": {
        "id": "-1lZMM2LpbyA"
      },
      "source": [
        "def ler_arquivo(nome_arquivo):\n",
        "    dict_values={}\n",
        "    f = open(nome_arquivo,'r')\n",
        "    linhas = f.readlines()\n",
        "    for line in linhas:\n",
        "        for i in range(len(line.split())):\n",
        "            cols = len(line.split())\n",
        "            dict_values[i]=[]\n",
        "    for line in linhas:\n",
        "        for i in range(len(line.split())):\n",
        "            dict_values[i].append(float(line.split()[i]))\n",
        "    #print(dict_values)\n",
        "    #print(cols)\n",
        "    return dict_values\n",
        "        \n",
        "\n",
        "\n",
        "\n",
        "def ler_arquivo_new(nome_arquivo):\n",
        "    dict_values={}\n",
        "    f = open(nome_arquivo,'r')\n",
        "    colunas = f.readline()\n",
        "    linhas = f.readlines()\n",
        "    #print(colunas.split())\n",
        "    for line in linhas:\n",
        "        for i in range(len(line.split())):\n",
        "            cols = len(line.split())\n",
        "            dict_values[colunas.split()[i]]=[] ###\n",
        "    for line in linhas:\n",
        "        for i in range(len(line.split())):\n",
        "            dict_values[colunas.split()[i]].append(line.split()[i]) ####\n",
        "    print(dict_values)\n",
        "    return dict_values"
      ],
      "execution_count": 1,
      "outputs": []
    },
    {
      "cell_type": "markdown",
      "metadata": {
        "id": "HV0tWAnGprGx"
      },
      "source": [
        "2. Transforme a função acima em um método na classe MeuTempo."
      ]
    },
    {
      "cell_type": "code",
      "metadata": {
        "id": "BJh71e_upt76"
      },
      "source": [
        "def ler_arquivo(nome_arquivo):\n",
        "    dict_values={}\n",
        "    try:    \n",
        "        f = open(nome_arquivo,'r')\n",
        "        linhas = f.readlines()\n",
        "        for line in linhas:\n",
        "            for i in range(len(line.split())):\n",
        "                dict_values[i]=[]\n",
        "        for line in linhas:\n",
        "            for i in range(len(line.split())):\n",
        "                dict_values[i].append(line.split()[i])\n",
        "        print(dict_values)\n",
        "    except:\n",
        "        print('Algo de errado aconteceu.')\n",
        "    \n",
        "    return dict_values\n",
        "        \n",
        "\n",
        "\n",
        "#\n",
        "#ler_arquivo(\"dados_alunos.txt\")\n",
        "\n",
        "def ler_arquivo_new(nome_arquivo):\n",
        "    try:   \n",
        "        dict_values={}\n",
        "        f = open(nome_arquivo,'r')\n",
        "        colunas = f.readline()\n",
        "        linhas = f.readlines()\n",
        "        #linha = [f.readline(0)]\n",
        "        #print(colunas.split())\n",
        "        for line in linhas:\n",
        "            for i in range(len(line.split())):\n",
        "                dict_values[colunas.split()[i]]=[] ###\n",
        "        for line in linhas:\n",
        "            for i in range(len(line.split())):\n",
        "                dict_values[colunas.split()[i]].append(line.split()[i]) ####\n",
        "        print(dict_values)\n",
        "    except:\n",
        "        print('Algo de errado aconteceu.')\n",
        "    \n",
        "    return dict_values\n",
        "\n",
        "\n",
        "ler_arquivo_new(\"dados_alunos_com_cabecalho.txt\")"
      ],
      "execution_count": null,
      "outputs": []
    }
  ]
}