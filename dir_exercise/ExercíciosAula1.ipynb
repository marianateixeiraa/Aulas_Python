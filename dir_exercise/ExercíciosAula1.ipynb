{
  "nbformat": 4,
  "nbformat_minor": 0,
  "metadata": {
    "colab": {
      "name": "ExercíciosAula1.ipynb",
      "provenance": [],
      "authorship_tag": "ABX9TyNWvuks5/jshot2+alof+4t",
      "include_colab_link": true
    },
    "kernelspec": {
      "name": "python3",
      "display_name": "Python 3"
    },
    "language_info": {
      "name": "python"
    }
  },
  "cells": [
    {
      "cell_type": "markdown",
      "metadata": {
        "id": "view-in-github",
        "colab_type": "text"
      },
      "source": [
        "<a href=\"https://colab.research.google.com/github/marianateixeiraa/Aulas_Python/blob/main/dir_exercise/Exerc%C3%ADciosAula1.ipynb\" target=\"_parent\"><img src=\"https://colab.research.google.com/assets/colab-badge.svg\" alt=\"Open In Colab\"/></a>"
      ]
    },
    {
      "cell_type": "markdown",
      "metadata": {
        "id": "PlvoTNSuhEJl"
      },
      "source": [
        "**Exercício 1**: Escreva na tela do modo prompt: \"mundo, mundo, vasto mundo\""
      ]
    },
    {
      "cell_type": "code",
      "metadata": {
        "colab": {
          "base_uri": "https://localhost:8080/"
        },
        "id": "X6KohNtYglve",
        "outputId": "97ddb819-6438-417b-d36b-04edce047002"
      },
      "source": [
        "print('mundo, mundo, vasto mundo')"
      ],
      "execution_count": 1,
      "outputs": [
        {
          "output_type": "stream",
          "text": [
            "mundo, mundo, vasto mundo\n"
          ],
          "name": "stdout"
        }
      ]
    },
    {
      "cell_type": "markdown",
      "metadata": {
        "id": "463vNYEQhlAD"
      },
      "source": [
        "**Exercício 2**: Imprima na tela a documentação da função print"
      ]
    },
    {
      "cell_type": "code",
      "metadata": {
        "colab": {
          "base_uri": "https://localhost:8080/"
        },
        "id": "pRnrLT4Lhrmr",
        "outputId": "50012ff7-a653-4e2f-ebd2-849553ce1a44"
      },
      "source": [
        "help('print')"
      ],
      "execution_count": 2,
      "outputs": [
        {
          "output_type": "stream",
          "text": [
            "Help on built-in function print in module builtins:\n",
            "\n",
            "print(...)\n",
            "    print(value, ..., sep=' ', end='\\n', file=sys.stdout, flush=False)\n",
            "    \n",
            "    Prints the values to a stream, or to sys.stdout by default.\n",
            "    Optional keyword arguments:\n",
            "    file:  a file-like object (stream); defaults to the current sys.stdout.\n",
            "    sep:   string inserted between values, default a space.\n",
            "    end:   string appended after the last value, default a newline.\n",
            "    flush: whether to forcibly flush the stream.\n",
            "\n"
          ],
          "name": "stdout"
        }
      ]
    },
    {
      "cell_type": "markdown",
      "metadata": {
        "id": "S8Xz3Pjnh0Wj"
      },
      "source": [
        "**Exercício 3**: Se você fizer uma corrida de 10 quilômetros em 43 minutos e 30 segundos,(a) qual será seu tempo médio por milha? (b) Qual é a sua velocidade média em milhas por hora? (Dica: há 1,61 quilômetros em uma milha)."
      ]
    },
    {
      "cell_type": "code",
      "metadata": {
        "colab": {
          "base_uri": "https://localhost:8080/"
        },
        "id": "ipfq4f8yh6pE",
        "outputId": "f4cfca16-1ec2-47c2-ede0-9a98a9e6e7fb"
      },
      "source": [
        "S=10/1.61\n",
        "T=43.5/60\n",
        "t=T/S\n",
        "print('O tempo médio é de:')\n",
        "print(t)"
      ],
      "execution_count": 11,
      "outputs": [
        {
          "output_type": "stream",
          "text": [
            "O tempo médio é de:\n",
            "0.11672500000000001\n"
          ],
          "name": "stdout"
        }
      ]
    },
    {
      "cell_type": "code",
      "metadata": {
        "colab": {
          "base_uri": "https://localhost:8080/"
        },
        "id": "KRYKKkp2j8HQ",
        "outputId": "357c8a8a-f8dc-4474-aaa9-e2c8e626c4a4"
      },
      "source": [
        "V=S/T\n",
        "print('a velocidade média em milhas é de:')\n",
        "print(V)"
      ],
      "execution_count": 12,
      "outputs": [
        {
          "output_type": "stream",
          "text": [
            "a velocidade média em milhas é de:\n",
            "8.567144998929106\n"
          ],
          "name": "stdout"
        }
      ]
    },
    {
      "cell_type": "markdown",
      "metadata": {
        "id": "nJ4DIsPrkuy1"
      },
      "source": [
        "**Exercício 4**: Desde sua varanda você escuta o som do primeiro fogo artificial do reveillon 3 segundos depois de ver a luz, qual a distância? (o som tem velocidade 343 m/s e a luz $3\\times 10^8$ m/s)."
      ]
    },
    {
      "cell_type": "code",
      "metadata": {
        "colab": {
          "base_uri": "https://localhost:8080/"
        },
        "id": "DIt-49c_k2qp",
        "outputId": "fd2331d3-f12e-4a61-8d8e-36f3316c3cc1"
      },
      "source": [
        "V_Luz=3*10**8\n",
        "V_Som=343\n",
        "D=3*(1/V_Som-1/V_Luz)**(-1)\n",
        "print('A distância em quilometros é:')\n",
        "print(D/1000)"
      ],
      "execution_count": 13,
      "outputs": [
        {
          "output_type": "stream",
          "text": [
            "A distância em quilometros é:\n",
            "1.0290011764913451\n"
          ],
          "name": "stdout"
        }
      ]
    },
    {
      "cell_type": "markdown",
      "metadata": {
        "id": "U5OBXQC9myZc"
      },
      "source": [
        "**Exercício 5**: Ache os zeros da função\n",
        " $$y = 3 x^2 - 4 x -10$$"
      ]
    },
    {
      "cell_type": "code",
      "metadata": {
        "colab": {
          "base_uri": "https://localhost:8080/"
        },
        "id": "AcarMcA5nY7a",
        "outputId": "d6cc96c7-ad05-4d4f-cd3f-1afa26734454"
      },
      "source": [
        "a=3\n",
        "b=-4\n",
        "c=-10\n",
        "import math\n",
        "delta= math.sqrt(b**2-4*a*c)\n",
        "x1=(-b+delta)/(2*a)\n",
        "x2=(-b-delta)/(2*a)\n",
        "print('as raizes dessa função são:')\n",
        "print(x1,x2)\n"
      ],
      "execution_count": 15,
      "outputs": [
        {
          "output_type": "stream",
          "text": [
            "as raizes dessa função são:\n",
            "2.610317298281767 -1.2769839649484336\n"
          ],
          "name": "stdout"
        }
      ]
    },
    {
      "cell_type": "markdown",
      "metadata": {
        "id": "lSYjM05JpHy3"
      },
      "source": [
        "**Exercício 6**: Se, ao meio-dia, a sombra de um poste de 5 m de altura tem apenas 50 cm de comprimento no chão, qual o ângulo zenital do sol?"
      ]
    },
    {
      "cell_type": "code",
      "metadata": {
        "colab": {
          "base_uri": "https://localhost:8080/"
        },
        "id": "ahacTFl2pT0P",
        "outputId": "1b07d183-d70f-4d17-e44f-4320bb4c4150"
      },
      "source": [
        "A_poste=5\n",
        "D_chão=0.5\n",
        "import math\n",
        "theta= math.atan(A_poste/D_chão)\n",
        "print('o ângulo é de:')\n",
        "print(theta)"
      ],
      "execution_count": 35,
      "outputs": [
        {
          "output_type": "stream",
          "text": [
            "o ângulo é de:\n",
            "1.4711276743037347\n"
          ],
          "name": "stdout"
        }
      ]
    },
    {
      "cell_type": "markdown",
      "metadata": {
        "id": "QCcdByCfpwNA"
      },
      "source": [
        "**Exercício 7**: Calcule o seu IMC: $$IMC = M / A^2$$ (com a massa em Kg e a altura em metros). Um valor saudável estara, em geral, entre 20-25. Um bebê de 6 meses \"gorducho\" tem 70 cm de \"comprimento\" e 11 kg de massa, qual o IMC dele?"
      ]
    },
    {
      "cell_type": "code",
      "metadata": {
        "colab": {
          "base_uri": "https://localhost:8080/"
        },
        "id": "fkk4YEV6r6Bx",
        "outputId": "2ed41e57-d3ab-4da4-e4e1-98fd45a5c013"
      },
      "source": [
        "m=11\n",
        "a=0.7\n",
        "imc=(m)/(a**2)\n",
        "print('O IMC é de:')\n",
        "print(imc)"
      ],
      "execution_count": 28,
      "outputs": [
        {
          "output_type": "stream",
          "text": [
            "O IMC é de:\n",
            "22.44897959183674\n"
          ],
          "name": "stdout"
        }
      ]
    },
    {
      "cell_type": "markdown",
      "metadata": {
        "id": "01YU9xSMsOPD"
      },
      "source": [
        "**Exercício 8**: (a) Calcule a velocidade final de um objeto em queda livre a partir de 3 metros de altura (sem resistencia do ar). (b) Calcule o tempo que esse objeto demora para cair."
      ]
    },
    {
      "cell_type": "code",
      "metadata": {
        "colab": {
          "base_uri": "https://localhost:8080/"
        },
        "id": "ruMdeGi7s2mo",
        "outputId": "821a8465-a3b1-41c2-aa08-826788591ab3"
      },
      "source": [
        "g=10\n",
        "h=3\n",
        "import math\n",
        "T= math.sqrt(2*h/g)\n",
        "print('O tempo da queda é:')\n",
        "print(T)"
      ],
      "execution_count": 30,
      "outputs": [
        {
          "output_type": "stream",
          "text": [
            "O tempo da queda é:\n",
            "0.7745966692414834\n"
          ],
          "name": "stdout"
        }
      ]
    },
    {
      "cell_type": "code",
      "metadata": {
        "colab": {
          "base_uri": "https://localhost:8080/"
        },
        "id": "s9LA5bk6tpiT",
        "outputId": "b61f16e0-28ba-492a-9187-afd7500af236"
      },
      "source": [
        "g=10\n",
        "h=3\n",
        "t=0.7745966692414834\n",
        "V=g*t\n",
        "print('a velocidade é de:')\n",
        "print(V)"
      ],
      "execution_count": 31,
      "outputs": [
        {
          "output_type": "stream",
          "text": [
            "a velocidade é de:\n",
            "7.745966692414834\n"
          ],
          "name": "stdout"
        }
      ]
    }
  ]
}