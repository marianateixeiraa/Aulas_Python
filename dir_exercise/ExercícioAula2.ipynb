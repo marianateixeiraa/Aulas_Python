{
  "nbformat": 4,
  "nbformat_minor": 0,
  "metadata": {
    "colab": {
      "name": "ExercícioAula2.ipynb",
      "provenance": [],
      "authorship_tag": "ABX9TyN8dZEjx8uE0Pn/XVp9VfZT",
      "include_colab_link": true
    },
    "kernelspec": {
      "name": "python3",
      "display_name": "Python 3"
    },
    "language_info": {
      "name": "python"
    }
  },
  "cells": [
    {
      "cell_type": "markdown",
      "metadata": {
        "id": "view-in-github",
        "colab_type": "text"
      },
      "source": [
        "<a href=\"https://colab.research.google.com/github/marianateixeiraa/Aulas_Python/blob/main/dir_exercise/Exerc%C3%ADcioAula2.ipynb\" target=\"_parent\"><img src=\"https://colab.research.google.com/assets/colab-badge.svg\" alt=\"Open In Colab\"/></a>"
      ]
    },
    {
      "cell_type": "markdown",
      "metadata": {
        "id": "HBsp5FOxxboa"
      },
      "source": [
        "**Exercício 1**: Considere as seguintes declarações de atribuições:\n",
        "\n",
        "largura = 17\n",
        "\n",
        "altura = 12.0\n",
        "\n",
        "delimitador = \".\"\n",
        "\n",
        "Para cada uma das expressões a seguir, escreva o valor das expressões e o tipo (do valor da expressão):\n",
        "\n",
        "largura/2\n",
        "\n",
        "largura/2.0\n",
        "\n",
        "altura/3\n",
        "\n",
        "1 + 2 * 5\n",
        "\n",
        "delimitador*5\n",
        "\n",
        "Use o interpretador de python para verificar suas respostas."
      ]
    },
    {
      "cell_type": "code",
      "metadata": {
        "id": "ly-46MT6xXYC"
      },
      "source": [
        "17"
      ],
      "execution_count": null,
      "outputs": []
    },
    {
      "cell_type": "code",
      "metadata": {
        "id": "WOD3yTaV3-S5"
      },
      "source": [
        "largura=17"
      ],
      "execution_count": 11,
      "outputs": []
    },
    {
      "cell_type": "code",
      "metadata": {
        "colab": {
          "base_uri": "https://localhost:8080/"
        },
        "id": "cPqvUXsk5nbY",
        "outputId": "9953e38b-3e8d-40d4-fb61-f0f95bc43664"
      },
      "source": [
        "largura/2"
      ],
      "execution_count": 12,
      "outputs": [
        {
          "output_type": "execute_result",
          "data": {
            "text/plain": [
              "8.5"
            ]
          },
          "metadata": {},
          "execution_count": 12
        }
      ]
    },
    {
      "cell_type": "code",
      "metadata": {
        "colab": {
          "base_uri": "https://localhost:8080/"
        },
        "id": "W2Sd9bzS5r9g",
        "outputId": "eb24b9f2-b156-4186-e00d-672fe5b4a6cd"
      },
      "source": [
        "largura/2.0"
      ],
      "execution_count": 13,
      "outputs": [
        {
          "output_type": "execute_result",
          "data": {
            "text/plain": [
              "8.5"
            ]
          },
          "metadata": {},
          "execution_count": 13
        }
      ]
    },
    {
      "cell_type": "code",
      "metadata": {
        "id": "5fUb12xR5w85"
      },
      "source": [
        "12.0"
      ],
      "execution_count": null,
      "outputs": []
    },
    {
      "cell_type": "code",
      "metadata": {
        "id": "s41BgrJb5zXy"
      },
      "source": [
        "altura=12.0"
      ],
      "execution_count": 16,
      "outputs": []
    },
    {
      "cell_type": "code",
      "metadata": {
        "colab": {
          "base_uri": "https://localhost:8080/"
        },
        "id": "Amyv_jW26Cmx",
        "outputId": "e81ff7ef-4b05-4ef9-edef-29cead7e92b9"
      },
      "source": [
        "altura/3"
      ],
      "execution_count": 17,
      "outputs": [
        {
          "output_type": "execute_result",
          "data": {
            "text/plain": [
              "4.0"
            ]
          },
          "metadata": {},
          "execution_count": 17
        }
      ]
    },
    {
      "cell_type": "code",
      "metadata": {
        "colab": {
          "base_uri": "https://localhost:8080/"
        },
        "id": "bapJfGf96FRz",
        "outputId": "d1e3e728-4992-4680-bdce-b50afaa4de11"
      },
      "source": [
        "largura+altura*5"
      ],
      "execution_count": 18,
      "outputs": [
        {
          "output_type": "execute_result",
          "data": {
            "text/plain": [
              "77.0"
            ]
          },
          "metadata": {},
          "execution_count": 18
        }
      ]
    },
    {
      "cell_type": "code",
      "metadata": {
        "id": "SauocLB96PrN"
      },
      "source": [
        "\".\""
      ],
      "execution_count": null,
      "outputs": []
    },
    {
      "cell_type": "code",
      "metadata": {
        "id": "U8mrYcdc6T3-"
      },
      "source": [
        "delimitador=\".\""
      ],
      "execution_count": 21,
      "outputs": []
    },
    {
      "cell_type": "code",
      "metadata": {
        "colab": {
          "base_uri": "https://localhost:8080/",
          "height": 35
        },
        "id": "tj83l5dJ6WSk",
        "outputId": "a43cd419-1ff0-4035-9c2f-8b15621bc69c"
      },
      "source": [
        "delimitador*5"
      ],
      "execution_count": 22,
      "outputs": [
        {
          "output_type": "execute_result",
          "data": {
            "application/vnd.google.colaboratory.intrinsic+json": {
              "type": "string"
            },
            "text/plain": [
              "'.....'"
            ]
          },
          "metadata": {},
          "execution_count": 22
        }
      ]
    },
    {
      "cell_type": "markdown",
      "metadata": {
        "id": "Rjdv15QHx0g8"
      },
      "source": [
        "**Exercício 2**: O volume de uma esfera de raio r é $\\frac{4}{3} \\pi r^{3}$\n",
        "\n",
        "Qual é o volume de uma esfera de raio 5?"
      ]
    },
    {
      "cell_type": "code",
      "metadata": {
        "id": "mC_xv7ZI6bra"
      },
      "source": [
        "5"
      ],
      "execution_count": null,
      "outputs": []
    },
    {
      "cell_type": "code",
      "metadata": {
        "id": "ZfmYUp7A6c1M"
      },
      "source": [
        "raio=5"
      ],
      "execution_count": 24,
      "outputs": []
    },
    {
      "cell_type": "code",
      "metadata": {
        "id": "LqKE1pAj6eWM"
      },
      "source": [
        "import math\n",
        "volume=(4*math.pi*raio**3)/(3)"
      ],
      "execution_count": 28,
      "outputs": []
    },
    {
      "cell_type": "code",
      "metadata": {
        "colab": {
          "base_uri": "https://localhost:8080/"
        },
        "id": "e7qcJdVY6yo6",
        "outputId": "a2df684d-f9f2-4c9c-8f2f-ba95b27c981e"
      },
      "source": [
        "volume"
      ],
      "execution_count": 29,
      "outputs": [
        {
          "output_type": "execute_result",
          "data": {
            "text/plain": [
              "523.5987755982989"
            ]
          },
          "metadata": {},
          "execution_count": 29
        }
      ]
    },
    {
      "cell_type": "code",
      "metadata": {
        "colab": {
          "base_uri": "https://localhost:8080/"
        },
        "id": "U-KmPJvQyLjV",
        "outputId": "2d726693-90a0-456e-af1d-c6528e6b91a3"
      },
      "source": [
        "r=5\n",
        "import math\n",
        "raio= (4*math.pi*r**3)/(3)\n",
        "print('valor do volume é:')\n",
        "print(raio)"
      ],
      "execution_count": 2,
      "outputs": [
        {
          "output_type": "stream",
          "text": [
            "valor do volume é:\n",
            "523.5987755982989\n"
          ],
          "name": "stdout"
        }
      ]
    },
    {
      "cell_type": "markdown",
      "metadata": {
        "id": "arC01Z3KyNG1"
      },
      "source": [
        "**Exercício 3**: Suponha que o preço de um livro seja 24.95 reais, porém as livrarias têm desconto de 40%. Os custos de envio são de 3.00 reais para o primeiro livro e 0.75 reais para os livros adicionais. Qual é o custo total da compra de 60 livros?"
      ]
    },
    {
      "cell_type": "code",
      "metadata": {
        "id": "H-d0Bd7R67EU"
      },
      "source": [
        "24.94"
      ],
      "execution_count": null,
      "outputs": []
    },
    {
      "cell_type": "code",
      "metadata": {
        "id": "cBSwpDCg69Pt"
      },
      "source": [
        "livro=24.94"
      ],
      "execution_count": 31,
      "outputs": []
    },
    {
      "cell_type": "code",
      "metadata": {
        "id": "lDGYCXuK7ASm"
      },
      "source": [
        "40"
      ],
      "execution_count": null,
      "outputs": []
    },
    {
      "cell_type": "code",
      "metadata": {
        "id": "RDJs2vRG7CgL"
      },
      "source": [
        "desconto=40"
      ],
      "execution_count": 41,
      "outputs": []
    },
    {
      "cell_type": "code",
      "metadata": {
        "id": "E3XXyPpW7Eu2"
      },
      "source": [
        "3"
      ],
      "execution_count": null,
      "outputs": []
    },
    {
      "cell_type": "code",
      "metadata": {
        "id": "y52PROJE7GEH"
      },
      "source": [
        "envio1=3"
      ],
      "execution_count": 35,
      "outputs": []
    },
    {
      "cell_type": "code",
      "metadata": {
        "id": "NI6D_wDu7Ix1"
      },
      "source": [
        "0.75"
      ],
      "execution_count": null,
      "outputs": []
    },
    {
      "cell_type": "code",
      "metadata": {
        "id": "TUAtCNEh7iMR"
      },
      "source": [
        "envio2=0.75"
      ],
      "execution_count": 43,
      "outputs": []
    },
    {
      "cell_type": "code",
      "metadata": {
        "id": "uXLru1CC7lrJ"
      },
      "source": [
        "compra=((60*livro)-(des/100)+(envio1)+(59*envio2))"
      ],
      "execution_count": 44,
      "outputs": []
    },
    {
      "cell_type": "code",
      "metadata": {
        "colab": {
          "base_uri": "https://localhost:8080/"
        },
        "id": "pxmlE8VW7r-S",
        "outputId": "556d4ae0-0dd3-4d57-8d8b-e818870bf633"
      },
      "source": [
        "compra"
      ],
      "execution_count": 54,
      "outputs": [
        {
          "output_type": "execute_result",
          "data": {
            "text/plain": [
              "1543.25"
            ]
          },
          "metadata": {},
          "execution_count": 54
        }
      ]
    },
    {
      "cell_type": "code",
      "metadata": {
        "colab": {
          "base_uri": "https://localhost:8080/"
        },
        "id": "eIWOLHg1yUt9",
        "outputId": "918193c1-dfef-4e44-a1cd-f64bb68d147c"
      },
      "source": [
        "livro=24.94\n",
        "des=40\n",
        "envio1=3\n",
        "envio2=0.75\n",
        "compra=((60*livro)-(des/100)+(envio1)+(59*envio2))\n",
        "print('o valor total será de:')\n",
        "print(compra)"
      ],
      "execution_count": 6,
      "outputs": [
        {
          "output_type": "stream",
          "text": [
            "o valor total será de:\n",
            "1543.25\n"
          ],
          "name": "stdout"
        }
      ]
    },
    {
      "cell_type": "markdown",
      "metadata": {
        "id": "wRql272UyVX4"
      },
      "source": [
        "**Exercício 4**: Um laser vermelho (com comprimento de onda $\\lambda = 632.8$ nm) incide em uma fenda dupla produzindo um padrão de interferência com franjas claras e escuras, em um anteparo situado a uma distância D = 1.98 m da fenda. Calcule a distância $\\Delta y$ entre dois máximos consecutivos de interferência. Considere o espaçamento entre as fendas, $d$, como sendo igual a 0.250 mm. <em>Dica: a distância entre dois máximos de interferência consecutivos pode ser aproximada por $\\Delta y = \\frac{\\lambda D}{d}$."
      ]
    },
    {
      "cell_type": "code",
      "metadata": {
        "id": "IPUoMuzy8JOz"
      },
      "source": [
        "632.8"
      ],
      "execution_count": null,
      "outputs": []
    },
    {
      "cell_type": "code",
      "metadata": {
        "id": "gM-swLki8Td4"
      },
      "source": [
        "lam=632.8"
      ],
      "execution_count": 50,
      "outputs": []
    },
    {
      "cell_type": "code",
      "metadata": {
        "id": "j9jXnSsZ8V2N"
      },
      "source": [
        "1.98"
      ],
      "execution_count": null,
      "outputs": []
    },
    {
      "cell_type": "code",
      "metadata": {
        "id": "_NFtnp1K8Xcv"
      },
      "source": [
        "D=1.98"
      ],
      "execution_count": 52,
      "outputs": []
    },
    {
      "cell_type": "code",
      "metadata": {
        "id": "82UvtirA8Zk8"
      },
      "source": [
        "0.250"
      ],
      "execution_count": null,
      "outputs": []
    },
    {
      "cell_type": "code",
      "metadata": {
        "id": "pojTo0kE8bHJ"
      },
      "source": [
        "d=0.250"
      ],
      "execution_count": 53,
      "outputs": []
    },
    {
      "cell_type": "code",
      "metadata": {
        "id": "JsXw6qHM8lo9"
      },
      "source": [
        "deltay=(lam*D)/(d)"
      ],
      "execution_count": 55,
      "outputs": []
    },
    {
      "cell_type": "code",
      "metadata": {
        "colab": {
          "base_uri": "https://localhost:8080/"
        },
        "id": "uLdq-QiG8npN",
        "outputId": "18ef20d7-89b4-4873-eea9-32d030388de7"
      },
      "source": [
        "deltay"
      ],
      "execution_count": 56,
      "outputs": [
        {
          "output_type": "execute_result",
          "data": {
            "text/plain": [
              "5011.776"
            ]
          },
          "metadata": {},
          "execution_count": 56
        }
      ]
    },
    {
      "cell_type": "code",
      "metadata": {
        "colab": {
          "base_uri": "https://localhost:8080/"
        },
        "id": "OeLBJwKHyc7U",
        "outputId": "1efedd45-afdf-4cc9-fe56-a0d2b0b92057"
      },
      "source": [
        "lam= 632.8\n",
        "D=1.98\n",
        "d=0.250\n",
        "deltay=(lam*D)/(d)\n",
        "print('O valor entre dois máximos de interferência')\n",
        "print(deltay)"
      ],
      "execution_count": 48,
      "outputs": [
        {
          "output_type": "stream",
          "text": [
            "O valor entre dois máximos de interferência\n",
            "5011.776\n"
          ],
          "name": "stdout"
        }
      ]
    }
  ]
}