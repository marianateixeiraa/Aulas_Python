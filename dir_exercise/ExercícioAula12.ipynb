{
  "nbformat": 4,
  "nbformat_minor": 0,
  "metadata": {
    "colab": {
      "name": "ExercícioAula12.ipynb",
      "provenance": [],
      "authorship_tag": "ABX9TyPkaiPhqvevGRj7nDzOd98A",
      "include_colab_link": true
    },
    "kernelspec": {
      "name": "python3",
      "display_name": "Python 3"
    },
    "language_info": {
      "name": "python"
    }
  },
  "cells": [
    {
      "cell_type": "markdown",
      "metadata": {
        "id": "view-in-github",
        "colab_type": "text"
      },
      "source": [
        "<a href=\"https://colab.research.google.com/github/marianateixeiraa/Aulas_Python/blob/main/dir_exercise/Exerc%C3%ADcioAula12.ipynb\" target=\"_parent\"><img src=\"https://colab.research.google.com/assets/colab-badge.svg\" alt=\"Open In Colab\"/></a>"
      ]
    },
    {
      "cell_type": "markdown",
      "metadata": {
        "id": "U8XCwUXUlEpW"
      },
      "source": [
        "1) Escreva **uma função** que calcule a distância entre dois pontos, usando a classe `Ponto` que fizemos nesta aula."
      ]
    },
    {
      "cell_type": "code",
      "metadata": {
        "id": "2aBnjhs2lB6M"
      },
      "source": [
        "class Ponto:\n",
        "  \"\"\" Cria um novo Ponto, com coordenadas x, y \"\"\"\n",
        "\n",
        "  def __init__(self, x=0, y=0):\n",
        "    \"\"\" Inicializa em x, y o novo ponto criado pela classe \"\"\"\n",
        "    self.x = x\n",
        "    self.y = y\n",
        "\n",
        "  def distancia_da_origem(self):\n",
        "    \"\"\" Calcula minha distânica da origem \"\"\"\n",
        "    return ((self.x ** 2) + (self.y ** 2)) ** 0.5\n",
        "    \n",
        "  def ponto_medio(self, alvo):\n",
        "    \"\"\" Retorna o ponto medio entre esse ponto e o alvo \"\"\"\n",
        "    mx = (self.x + alvo.x)/2\n",
        "    my = (self.y + alvo.y)/2\n",
        "    return Ponto(mx, my)\n",
        "\n",
        "  def distancia_entre_dois_pontos(self, alvo):\n",
        "    \"\"\" Retorna a distância entre dois pontos \"\"\"\n",
        "    dx = (self.x - alvo.x)\n",
        "    dy = (self.y - alvo.y)\n",
        "    return float(((dx ** 2) + (dy ** 2))** (1/2))\n",
        "    \n",
        "  def __str__(self):\n",
        "    return \"({0}, {1})\".format(self.x, self.y)"
      ],
      "execution_count": 2,
      "outputs": []
    },
    {
      "cell_type": "code",
      "metadata": {
        "colab": {
          "base_uri": "https://localhost:8080/"
        },
        "id": "JoPtINQTl8U_",
        "outputId": "251c8b87-f7b9-44a4-d7da-b1769d29f30a"
      },
      "source": [
        "print(f'A distancia entre os pontos p = {Ponto(8, 7)} e q = {Ponto(4, 7)} será d = {Ponto(8, 7).distancia_entre_dois_pontos(Ponto(4, 7)):.3f}')"
      ],
      "execution_count": 3,
      "outputs": [
        {
          "output_type": "stream",
          "name": "stdout",
          "text": [
            "A distancia entre os pontos p = (8, 7) e q = (4, 7) será d = 4.000\n"
          ]
        }
      ]
    },
    {
      "cell_type": "markdown",
      "metadata": {
        "id": "lkIIy0r9law1"
      },
      "source": [
        "2) Adicione um método `reflexao_x` à classe `Ponto` que retorne uma instância de `Ponto` que seja o reflexo **sobre o eixo x**. Por exemplo, o resultado de  `Ponto(3, 5).reflexao_x()` deve ser um ponto com coordenadas  `(3, -5)`. _Imagine um espelho colado no eixo x._"
      ]
    },
    {
      "cell_type": "code",
      "metadata": {
        "id": "XTzafa96le3E"
      },
      "source": [
        "class Ponto:\n",
        "  \"\"\" Cria um novo Ponto, com coordenadas x, y \"\"\"\n",
        "\n",
        "  def __init__(self, x=0, y=0):\n",
        "    \"\"\" Inicializa em x, y o novo ponto criado pela classe \"\"\"\n",
        "    self.x = x\n",
        "    self.y = y\n",
        "\n",
        "  def distancia_da_origem(self):\n",
        "    \"\"\" Calcula minha distânica da origem \"\"\"\n",
        "    return ((self.x ** 2) + (self.y ** 2)) ** 0.5\n",
        "    \n",
        "  def ponto_medio(self, alvo):\n",
        "    \"\"\" Retorna o ponto medio entre esse ponto e o alvo \"\"\"\n",
        "    mx = (self.x + alvo.x)/2\n",
        "    my = (self.y + alvo.y)/2\n",
        "    return Ponto(mx, my)\n",
        "\n",
        "  def distancia_entre_dois_pontos(self, alvo):\n",
        "    \"\"\" Retorna a distância entre dois pontos \"\"\"\n",
        "    dx = (self.x - alvo.x)\n",
        "    dy = (self.y - alvo.y)\n",
        "    return float(((dx ** 2) + (dy ** 2))** (1/2))\n",
        "\n",
        "  def reflexao_x(self):\n",
        "    \"\"\" Retorna um ponto reflexo sobre o eixo x \"\"\"\n",
        "    return (self.x, - self.y)\n",
        "    \n",
        "  def __str__(self):\n",
        "    return \"({0}, {1})\".format(self.x, self.y)"
      ],
      "execution_count": 5,
      "outputs": []
    },
    {
      "cell_type": "code",
      "metadata": {
        "colab": {
          "base_uri": "https://localhost:8080/"
        },
        "id": "HDNDwrxCmQqE",
        "outputId": "509010ad-3745-4552-c34b-bee31ab53bde"
      },
      "source": [
        "print(f'O ponto espelho de p = {Ponto(3, 5)} sobre o eixo x é p` = {Ponto(3, -5).reflexao_x()}.')"
      ],
      "execution_count": 6,
      "outputs": [
        {
          "output_type": "stream",
          "name": "stdout",
          "text": [
            "O ponto espelho de p = (3, 5) sobre o eixo x é p` = (3, 5).\n"
          ]
        }
      ]
    },
    {
      "cell_type": "markdown",
      "metadata": {
        "id": "0o5fl1mFlfHi"
      },
      "source": [
        "3) Adicione um método `inclinacao_da_origem` à classe `Ponto`, que retorne a inclinação da linha que une a origem ao `Ponto`. Por exemplo,\n",
        "\n",
        "```python\n",
        ">>> from Ponto import *\n",
        ">>> Ponto(4, 10).inclinacao_origem()\n",
        "2.5\n",
        "```"
      ]
    },
    {
      "cell_type": "code",
      "metadata": {
        "id": "pDDG1LNrlkOz"
      },
      "source": [
        "  \"\"\" Cria um novo Ponto, com coordenadas x, y \"\"\"\n",
        "\n",
        "  def __init__(self, x=0, y=0):\n",
        "    \"\"\" Inicializa em x, y o novo ponto criado pela classe \"\"\"\n",
        "    self.x = x\n",
        "    self.y = y\n",
        "\n",
        "  def distancia_da_origem(self):\n",
        "    \"\"\" Calcula minha distânica da origem \"\"\"\n",
        "    return ((self.x ** 2) + (self.y ** 2)) ** 0.5\n",
        "    \n",
        "  def ponto_medio(self, alvo):\n",
        "    \"\"\" Retorna o ponto medio entre esse ponto e o alvo \"\"\"\n",
        "    mx = (self.x + alvo.x)/2\n",
        "    my = (self.y + alvo.y)/2\n",
        "    return Ponto(mx, my)\n",
        "\n",
        "  def distancia_entre_dois_pontos(self, alvo):\n",
        "    \"\"\" Retorna a distância entre dois pontos \"\"\"\n",
        "    dx = (self.x - alvo.x)\n",
        "    dy = (self.y - alvo.y)\n",
        "    return float(((dx ** 2) + (dy ** 2))** (1/2))\n",
        "\n",
        "  def reflexao_x(self):\n",
        "    \"\"\" Retorna um ponto reflexo sobre o eixo x \"\"\"\n",
        "    return (self.x, - self.y)\n",
        "\n",
        "  def inclinacao_da_origem(self):\n",
        "     \"\"\" Retorna a inclinação da linha que une a origem ao Ponto \"\"\"\n",
        "     if (self.x) != 0:\n",
        "       return (self.y) / (self.x)\n",
        "     else:\n",
        "       print('Esse metodo falha quando os valores de x são iguais a zero pois temos uma indeterminação matemática.')\n",
        "       return 'zero'\n",
        "    \n",
        "  def __str__(self):\n",
        "    return \"({0}, {1})\".format(self.x, self.y)"
      ],
      "execution_count": 15,
      "outputs": []
    },
    {
      "cell_type": "code",
      "metadata": {
        "id": "XaFmv_rAmcno"
      },
      "source": [
        "def escolhendo_pontos_para_inclinacao():\n",
        "  print(f'{\" Escolha de pontos para cálculo de inclinação \":=^100}')\n",
        "  i = 'S'\n",
        "  while i in 'S':\n",
        "    print(f'{\"\":=^100}')\n",
        "    p = Ponto(float(input('Entre com um valor para x: ')), float(input('Entre com um valor para y: ')))\n",
        "    inclinacao = p.inclinacao_da_origem()\n",
        "    if type(inclinacao) == str:\n",
        "      print(f'Mas sabemos que inclinação do ponto p = {p} é {inclinacao}.')\n",
        "    else:\n",
        "      print(f'A inclinação do ponto p = {p} é {inclinacao:.3f}.')\n",
        "    i = str(input('Deseja entrar com mais pontos?\\nDigite sim ou não:')).strip().upper()[0]\n",
        "    print(f'{\"\":=^100}')\n",
        "\n",
        "escolhendo_pontos_para_inclinacao()"
      ],
      "execution_count": null,
      "outputs": []
    },
    {
      "cell_type": "markdown",
      "metadata": {
        "id": "4n88NaqkllGK"
      },
      "source": [
        "O que pode dar errado com esse programa?\n",
        "\n",
        "4) A equação de uma linha reta é $y = a x  + b$. Os coeficientes $a$ e $b$ descrevem completamente a reta. Escreva um método na classe `Ponto` para que, se uma instância `Ponto` receber outro `Ponto`, calcule a equação da linha reta que une os dois pontos. Deve retornar os dois coeficientes como uma **tupla de dois valores** $(a,b)$. Por exemplo,\n",
        "\n",
        "```python\n",
        ">>> from Ponto import *\n",
        ">>> print(Ponto(4,11).parametros_reta(Ponto(6,15)))\n",
        "(2.0,3.0)\n",
        "```\n",
        "\n",
        "O resultado acima nos diz que a equação da reta é $y = 2 x + 3$. Quando esse método falha?"
      ]
    },
    {
      "cell_type": "code",
      "metadata": {
        "id": "5EFv2Keclp1f"
      },
      "source": [
        "class Ponto:\n",
        "  \"\"\" Cria um novo Ponto, com coordenadas x, y \"\"\"\n",
        "\n",
        "  def __init__(self, x=0, y=0):\n",
        "    \"\"\" Inicializa em x, y o novo ponto criado pela classe \"\"\"\n",
        "    self.x = x\n",
        "    self.y = y\n",
        "\n",
        "  def distancia_da_origem(self):\n",
        "    \"\"\" Calcula minha distânica da origem \"\"\"\n",
        "    return ((self.x ** 2) + (self.y ** 2)) ** 0.5\n",
        "    \n",
        "  def ponto_medio(self, alvo):\n",
        "    \"\"\" Retorna o ponto medio entre esse ponto e o alvo \"\"\"\n",
        "    mx = (self.x + alvo.x)/2\n",
        "    my = (self.y + alvo.y)/2\n",
        "    return Ponto(mx, my)\n",
        "\n",
        "  def distancia_entre_dois_pontos(self, alvo):\n",
        "    \"\"\" Retorna a distância entre dois pontos \"\"\"\n",
        "    dx = (self.x - alvo.x)\n",
        "    dy = (self.y - alvo.y)\n",
        "    return float(((dx ** 2) + (dy ** 2))** (1/2))\n",
        "\n",
        "  def reflexao_x(self):\n",
        "    \"\"\" Retorna um ponto reflexo sobre o eixo x \"\"\"\n",
        "    return (self.x, - self.y)\n",
        "\n",
        "  def inclinacao_da_origem(self):\n",
        "     \"\"\" Retorna a inclinação da linha que une a origem ao Ponto \"\"\"\n",
        "     if (self.x) != 0:\n",
        "       return (self.y) / (self.x)\n",
        "     else:\n",
        "       print('Esse metodo falha quando os valores de x são iguais a zero pois temos uma indeterminação matemática.')\n",
        "       return 0\n",
        "      \n",
        "  def parametros_reta(self, alvo):\n",
        "    \"\"\" Retorna os parametros da reta f(x) = ax + b como uma tupla de dois valores \"\"\"\n",
        "    if (self.x) - (alvo.x) == 0:\n",
        "      return 'impossiveis de serem determinados com esses valores de x e y '\n",
        "    else:\n",
        "      a = Ponto(((self.x) - (alvo.x)), ((self.y) - (alvo.y))).inclinacao_da_origem()\n",
        "      b = (self.y) - a * (self.x)\n",
        "      return (a, b)\n",
        "\n",
        "    \n",
        "  def __str__(self):\n",
        "    return \"({0}, {1})\".format(self.x, self.y)"
      ],
      "execution_count": null,
      "outputs": []
    },
    {
      "cell_type": "code",
      "metadata": {
        "id": "P_0pjGd0nIkq"
      },
      "source": [
        "def determinando_a_e_b():\n",
        "  print(f'{\" Escolha de pontos para cálculo de (a, b) \":=^100}')\n",
        "  i = 'S'\n",
        "  while i in 'S':\n",
        "    print(f'{\"\":=^100}')\n",
        "    p = Ponto(float(input('Entre com o 1º valor para x: ')), float(input('Entre com o 1º valor para y: ')))\n",
        "    print(' ')\n",
        "    q = Ponto(float(input('Entre com o 2º valor para x: ')), float(input('Entre com o 2º valor para y: ')))\n",
        "    print(' ')\n",
        "    parametros = p.parametros_reta(q)\n",
        "    if type(parametros) == str:\n",
        "      print(f'Os parametro (a, b) são {parametros}.\\n')\n",
        "    else:\n",
        "      print(f'Os parametro (a, b) são {parametros}.\\nLogo temos y = ({parametros[0]:.3f})x + ({parametros[1]:.3f})\\n')\n",
        "    i = str(input('Deseja entrar com mais pontos?\\nDigite sim ou não:')).strip().upper()[0]\n",
        "    print(f'{\"\":=^100}')\n",
        "\n",
        "determinando_a_e_b()"
      ],
      "execution_count": null,
      "outputs": []
    }
  ]
}