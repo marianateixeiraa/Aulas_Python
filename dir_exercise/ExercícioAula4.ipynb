{
  "nbformat": 4,
  "nbformat_minor": 0,
  "metadata": {
    "colab": {
      "name": "ExercícioAula4.ipynb",
      "provenance": [],
      "authorship_tag": "ABX9TyNdQ/HwIzJW/XB1bwckqyeb",
      "include_colab_link": true
    },
    "kernelspec": {
      "name": "python3",
      "display_name": "Python 3"
    },
    "language_info": {
      "name": "python"
    }
  },
  "cells": [
    {
      "cell_type": "markdown",
      "metadata": {
        "id": "view-in-github",
        "colab_type": "text"
      },
      "source": [
        "<a href=\"https://colab.research.google.com/github/marianateixeiraa/Aulas_Python/blob/main/dir_exercise/Exerc%C3%ADcioAula4.ipynb\" target=\"_parent\"><img src=\"https://colab.research.google.com/assets/colab-badge.svg\" alt=\"Open In Colab\"/></a>"
      ]
    },
    {
      "cell_type": "markdown",
      "metadata": {
        "id": "jj1duDP7JUZb"
      },
      "source": [
        "1) Escreva uma função com um valor de retorno que:\n",
        "\n",
        "tome como input dois argumentos;\n",
        "execute a soma dos dois parâmetros que foram passados como argumento e atribua o resultado a uma variável;\n",
        "tenha como valor de retorno o dobro da soma dos dois parâmetros."
      ]
    },
    {
      "cell_type": "code",
      "metadata": {
        "id": "XdY2R4RqHwX4",
        "colab": {
          "base_uri": "https://localhost:8080/"
        },
        "outputId": "8ef3c55a-36f0-4ea1-d2aa-9bc90bc8f10e"
      },
      "source": [
        " def dobro(a):              #função dobro de a\n",
        "\n",
        "   return 2*a               #retorno da função dobro de a\n",
        "\n",
        "\n",
        "x=dobro(6)                  #dobro de 6 = 12\n",
        "y=dobro(x)                  #dobro de X = 24\n",
        "z=x+y                       #valor de 24+12=36\n",
        "print(z)"
      ],
      "execution_count": null,
      "outputs": [
        {
          "output_type": "stream",
          "name": "stdout",
          "text": [
            "36\n"
          ]
        }
      ]
    },
    {
      "cell_type": "markdown",
      "metadata": {
        "id": "niqDys3ZN2CN"
      },
      "source": [
        "2)Um objeto de função é um valor que você pode atribuir a uma variável ou passar como um argumento. Por exemplo, do_twice é uma função que usa um objeto de função como argumento e o chama duas vezes:"
      ]
    },
    {
      "cell_type": "code",
      "metadata": {
        "id": "WjT76V_JN7HW",
        "colab": {
          "base_uri": "https://localhost:8080/"
        },
        "outputId": "afddfadf-5922-4d23-b733-51070b67161b"
      },
      "source": [
        "def do_twice (m):\n",
        "    m()\n",
        "    m()\n",
        "\n",
        "def print_spam() :\n",
        "    print('spam')\n",
        "\n",
        "do_twice(print_spam)"
      ],
      "execution_count": 1,
      "outputs": [
        {
          "output_type": "stream",
          "name": "stdout",
          "text": [
            "spam\n",
            "spam\n"
          ]
        }
      ]
    },
    {
      "cell_type": "markdown",
      "metadata": {
        "id": "eL4nHpFiDP75"
      },
      "source": [
        "b) Escreva uma versão mais geral de print_spam, chamada print_twice, que use uma string como parâmetro e imprima duas vezes."
      ]
    },
    {
      "cell_type": "code",
      "metadata": {
        "colab": {
          "base_uri": "https://localhost:8080/"
        },
        "id": "QlxHp5hLDPlQ",
        "outputId": "b284c9c3-d815-42bd-de26-6e37e922d2e4"
      },
      "source": [
        "g = \"hello\" \n",
        "\n",
        "def do_twice(f,g):\n",
        "   f(g)\n",
        "   f(g)\n",
        "\n",
        "def print_spam(g):\n",
        "   print(g)\n",
        "\n",
        "do_twice(print_spam, g)"
      ],
      "execution_count": 2,
      "outputs": [
        {
          "output_type": "stream",
          "name": "stdout",
          "text": [
            "hello\n",
            "hello\n"
          ]
        }
      ]
    },
    {
      "cell_type": "markdown",
      "metadata": {
        "id": "IkJWloVE0YbY"
      },
      "source": [
        "c) Escreva uma versão mais geral de print_spam, chamada print_twice, que use uma string como parâmetro e imprima duas vezes."
      ]
    },
    {
      "cell_type": "code",
      "metadata": {
        "colab": {
          "base_uri": "https://localhost:8080/"
        },
        "id": "ixue58m90YxG",
        "outputId": "886b3c37-1040-43c9-d247-120c65e785fc"
      },
      "source": [
        "string = \"oi, tudo bem?\"\n",
        "\n",
        "def print_twice(string):\n",
        "   print(string)\n",
        "   print(string)\n",
        "\n",
        "print_twice(string)"
      ],
      "execution_count": 3,
      "outputs": [
        {
          "output_type": "stream",
          "name": "stdout",
          "text": [
            "oi, tudo bem?\n",
            "oi, tudo bem?\n"
          ]
        }
      ]
    },
    {
      "cell_type": "markdown",
      "metadata": {
        "id": "me7Lygkq0ZGx"
      },
      "source": [
        "d) Use a versão modificada (no item b) de do_twice para chamar print_twice duas vezes, passando 'spam' como um argumento."
      ]
    },
    {
      "cell_type": "code",
      "metadata": {
        "colab": {
          "base_uri": "https://localhost:8080/"
        },
        "id": "RLFmPSO80bVl",
        "outputId": "2ca2ff4b-b15a-4cfb-9ca2-7d5a71b6b4b1"
      },
      "source": [
        "g = \"spam\"\n",
        "\n",
        "def do_twice(f,g):\n",
        "    f(g)\n",
        "    f(g)\n",
        "\n",
        "def print_twice(g):\n",
        "    print(g)\n",
        "    print(g)\n",
        "\n",
        "do_twice(print_twice, g)"
      ],
      "execution_count": 4,
      "outputs": [
        {
          "output_type": "stream",
          "name": "stdout",
          "text": [
            "spam\n",
            "spam\n",
            "spam\n",
            "spam\n"
          ]
        }
      ]
    },
    {
      "cell_type": "markdown",
      "metadata": {
        "id": "FQjqnqCF0b0O"
      },
      "source": [
        "e)Defina uma nova função chamada do_four que recebe um objeto de função e um valor e chama a função quatro vezes, passando o valor como um parâmetro. Deve haver apenas duas declarações no corpo desta função, e não quatro."
      ]
    },
    {
      "cell_type": "code",
      "metadata": {
        "colab": {
          "base_uri": "https://localhost:8080/"
        },
        "id": "e0BW09TK0cZJ",
        "outputId": "887dc237-6b72-4d9f-d498-b5741d8247ac"
      },
      "source": [
        "def do_four(f,g) :\n",
        "    do_twice(f,g)\n",
        "    do_twice(f,g)\n",
        "\n",
        "do_four(print_twice,g)"
      ],
      "execution_count": 5,
      "outputs": [
        {
          "output_type": "stream",
          "name": "stdout",
          "text": [
            "spam\n",
            "spam\n",
            "spam\n",
            "spam\n",
            "spam\n",
            "spam\n",
            "spam\n",
            "spam\n"
          ]
        }
      ]
    }
  ]
}