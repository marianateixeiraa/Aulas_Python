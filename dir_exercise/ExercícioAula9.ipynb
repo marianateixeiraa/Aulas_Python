{
  "nbformat": 4,
  "nbformat_minor": 0,
  "metadata": {
    "colab": {
      "name": "ExercícioAula9.ipynb",
      "provenance": [],
      "authorship_tag": "ABX9TyNurm0icx4SjfWYy7SspA+C",
      "include_colab_link": true
    },
    "kernelspec": {
      "name": "python3",
      "display_name": "Python 3"
    },
    "language_info": {
      "name": "python"
    }
  },
  "cells": [
    {
      "cell_type": "markdown",
      "metadata": {
        "id": "view-in-github",
        "colab_type": "text"
      },
      "source": [
        "<a href=\"https://colab.research.google.com/github/marianateixeiraa/Aulas_Python/blob/main/dir_exercise/Exerc%C3%ADcioAula9.ipynb\" target=\"_parent\"><img src=\"https://colab.research.google.com/assets/colab-badge.svg\" alt=\"Open In Colab\"/></a>"
      ]
    },
    {
      "cell_type": "code",
      "metadata": {
        "colab": {
          "base_uri": "https://localhost:8080/"
        },
        "id": "zPTSPTLw3ytN",
        "outputId": "966e601f-e231-4926-956e-621156f2630e"
      },
      "source": [
        "%%writefile dados_alunos.txt\n",
        "idade,altura,peso\n",
        "18,1.68,80\n",
        "18,1.94,60\n",
        "18,1.7,80\n",
        "18,1.76,66\n",
        "19,1.73,87.5\n",
        "18,1.66,58\n",
        "21,1.8,92\n",
        "18,1.6,57\n",
        "18,1.67,64\n",
        "18,1.73,57\n",
        "17,1.73,75\n",
        "18,1.61,59\n",
        "18,1.69,90\n",
        "17,1.71,67\n",
        "19,1.78,60\n",
        "22,1.68,72\n",
        "18,1.7,73\n",
        "19,1.64,86\n",
        "18,1.64,75\n",
        "20,1.8,95\n",
        "17,1.75,60\n",
        "18,1.78,75\n",
        "18,1.75,65\n",
        "17,1.69,60\n",
        "19,1.78,73\n",
        "18,1.7,63\n",
        "34,1.75,78\n",
        "18,1.64,64\n",
        "19,1.75,50\n",
        "18,1.67,61\n",
        "18,1.7,70\n",
        "20,1.8,60\n",
        "18,1.63,57\n",
        "23,1.89,110\n",
        "18,1.71,71\n",
        "18,1.65,65\n",
        "17,1.72,67\n",
        "19,1.65,58\n",
        "18,1.75,90\n",
        "18,1.7,64\n",
        "19,1.81,70\n",
        "19,1.65,43\n",
        "28,1.52,50\n",
        "19,1.79,78\n",
        "26,1.79,82\n",
        "19,1.75,61\n",
        "19,1.8,70\n",
        "20,1.75,70\n",
        "20,1.73,70\n",
        "19,1.7,50\n",
        "22,1.78,72\n",
        "19,1.77,55\n",
        "18,1.53,58\n",
        "28,1.54,50\n",
        "20,1.83,70\n",
        "44,1.85,90\n",
        "18,1.6,51"
      ],
      "execution_count": 1,
      "outputs": [
        {
          "output_type": "stream",
          "name": "stdout",
          "text": [
            "Writing dados_alunos.txt\n"
          ]
        }
      ]
    },
    {
      "cell_type": "code",
      "metadata": {
        "colab": {
          "base_uri": "https://localhost:8080/",
          "height": 1000
        },
        "id": "mglOWYcS4vdK",
        "outputId": "b39e31c9-ea08-4d33-9b52-3965fa109f60"
      },
      "source": [
        "import matplotlib.pyplot as plt\n",
        "\n",
        "# Functions:\n",
        "def open_data(data_file, separator = ','):\n",
        "    ''' Retorna listas de dados separados pelo parâmetro \"separator\". '''\n",
        "    lines = open(data_file).readlines()\n",
        "    return [line.strip().lower().split(separator) for line in lines]\n",
        "\n",
        "def create_list(data, item):\n",
        "    ''' Retorna uma lista a partir dos dados do parâmetro \"data\", de um item em especifico informado no parâmetro \"item\". '''\n",
        "    item = item.strip().lower()\n",
        "    if item in data[0]:\n",
        "        new_list = []\n",
        "        position = data[0].index(item)\n",
        "        for i in data:\n",
        "            new_list.append(i[position])\n",
        "        return [float(i) for i in new_list[1:]]\n",
        "    else:\n",
        "        return 'Não existe dados sobre este item.'\n",
        "\n",
        "def plot_histogram(title, data_list, color, bins = 10):\n",
        "    ''' Cria um histograma com titulo, dados, cor e número de intervalos. '''\n",
        "    plt.figure(figsize = (15, 5))\n",
        "    plt.title(title)\n",
        "    plt.hist(data_list, bins = bins, color = color)\n",
        "    plt.grid(True)\n",
        "    plt.show()\n",
        "\n",
        "# Parameters:\n",
        "data = open_data('dados_alunos.txt')\n",
        "idade = create_list(data, 'idade')\n",
        "altura = create_list(data, 'altura')\n",
        "peso = create_list(data, 'peso')\n",
        "idade.sort(key = int)\n",
        "altura.sort(key = float)\n",
        "peso.sort(key = float)\n",
        "\n",
        "# Results:\n",
        "print('\\nDados:', data, '\\n')\n",
        "print('Idades: ', idade, '\\n')\n",
        "print('Alturas: ', altura, '\\n')\n",
        "print('Pesos: ', peso, '\\n')\n",
        "\n",
        "# Plot:\n",
        "plot_histogram('Idade x Frequência', idade, 'red')\n",
        "plot_histogram('Altura x Frequência', altura, 'green')\n",
        "plot_histogram('Peso x Frequência', peso, 'blue')"
      ],
      "execution_count": 2,
      "outputs": [
        {
          "output_type": "stream",
          "name": "stdout",
          "text": [
            "\n",
            "Dados: [['idade', 'altura', 'peso'], ['18', '1.68', '80'], ['18', '1.94', '60'], ['18', '1.7', '80'], ['18', '1.76', '66'], ['19', '1.73', '87.5'], ['18', '1.66', '58'], ['21', '1.8', '92'], ['18', '1.6', '57'], ['18', '1.67', '64'], ['18', '1.73', '57'], ['17', '1.73', '75'], ['18', '1.61', '59'], ['18', '1.69', '90'], ['17', '1.71', '67'], ['19', '1.78', '60'], ['22', '1.68', '72'], ['18', '1.7', '73'], ['19', '1.64', '86'], ['18', '1.64', '75'], ['20', '1.8', '95'], ['17', '1.75', '60'], ['18', '1.78', '75'], ['18', '1.75', '65'], ['17', '1.69', '60'], ['19', '1.78', '73'], ['18', '1.7', '63'], ['34', '1.75', '78'], ['18', '1.64', '64'], ['19', '1.75', '50'], ['18', '1.67', '61'], ['18', '1.7', '70'], ['20', '1.8', '60'], ['18', '1.63', '57'], ['23', '1.89', '110'], ['18', '1.71', '71'], ['18', '1.65', '65'], ['17', '1.72', '67'], ['19', '1.65', '58'], ['18', '1.75', '90'], ['18', '1.7', '64'], ['19', '1.81', '70'], ['19', '1.65', '43'], ['28', '1.52', '50'], ['19', '1.79', '78'], ['26', '1.79', '82'], ['19', '1.75', '61'], ['19', '1.8', '70'], ['20', '1.75', '70'], ['20', '1.73', '70'], ['19', '1.7', '50'], ['22', '1.78', '72'], ['19', '1.77', '55'], ['18', '1.53', '58'], ['28', '1.54', '50'], ['20', '1.83', '70'], ['44', '1.85', '90'], ['18', '1.6', '51']] \n",
            "\n",
            "Idades:  [17.0, 17.0, 17.0, 17.0, 17.0, 18.0, 18.0, 18.0, 18.0, 18.0, 18.0, 18.0, 18.0, 18.0, 18.0, 18.0, 18.0, 18.0, 18.0, 18.0, 18.0, 18.0, 18.0, 18.0, 18.0, 18.0, 18.0, 18.0, 18.0, 18.0, 19.0, 19.0, 19.0, 19.0, 19.0, 19.0, 19.0, 19.0, 19.0, 19.0, 19.0, 19.0, 19.0, 20.0, 20.0, 20.0, 20.0, 20.0, 21.0, 22.0, 22.0, 23.0, 26.0, 28.0, 28.0, 34.0, 44.0] \n",
            "\n",
            "Alturas:  [1.52, 1.53, 1.54, 1.6, 1.6, 1.61, 1.63, 1.64, 1.64, 1.64, 1.65, 1.65, 1.65, 1.66, 1.67, 1.67, 1.68, 1.68, 1.69, 1.69, 1.7, 1.7, 1.7, 1.7, 1.7, 1.7, 1.71, 1.71, 1.72, 1.73, 1.73, 1.73, 1.73, 1.75, 1.75, 1.75, 1.75, 1.75, 1.75, 1.75, 1.76, 1.77, 1.78, 1.78, 1.78, 1.78, 1.79, 1.79, 1.8, 1.8, 1.8, 1.8, 1.81, 1.83, 1.85, 1.89, 1.94] \n",
            "\n",
            "Pesos:  [43.0, 50.0, 50.0, 50.0, 50.0, 51.0, 55.0, 57.0, 57.0, 57.0, 58.0, 58.0, 58.0, 59.0, 60.0, 60.0, 60.0, 60.0, 60.0, 61.0, 61.0, 63.0, 64.0, 64.0, 64.0, 65.0, 65.0, 66.0, 67.0, 67.0, 70.0, 70.0, 70.0, 70.0, 70.0, 70.0, 71.0, 72.0, 72.0, 73.0, 73.0, 75.0, 75.0, 75.0, 78.0, 78.0, 80.0, 80.0, 82.0, 86.0, 87.5, 90.0, 90.0, 90.0, 92.0, 95.0, 110.0] \n",
            "\n"
          ]
        },
        {
          "output_type": "display_data",
          "data": {
            "image/png": "[encoded data removed]",
            "text/plain": [
              "<Figure size 1080x360 with 1 Axes>"
            ]
          },
          "metadata": {
            "needs_background": "light"
          }
        },
        {
          "output_type": "display_data",
          "data": {
            "image/png": "[encoded data removed]",
            "text/plain": [
              "<Figure size 1080x360 with 1 Axes>"
            ]
          },
          "metadata": {
            "needs_background": "light"
          }
        },
        {
          "output_type": "display_data",
          "data": {
            "image/png": "[encoded data removed]",
            "text/plain": [
              "<Figure size 1080x360 with 1 Axes>"
            ]
          },
          "metadata": {
            "needs_background": "light"
          }
        }
      ]
    },
    {
      "cell_type": "code",
      "metadata": {
        "colab": {
          "base_uri": "https://localhost:8080/"
        },
        "id": "_kFHPH9X41mU",
        "outputId": "463962b3-183d-4d5d-bb39-6a405d1ac0d0"
      },
      "source": [
        "import os\n",
        "\n",
        "# Functions:\n",
        "def create_dir_list(dir, show = 'all'):\n",
        "    ''' Cria uma lista de arquivos ou de subpastas ou de ambos de um determinado diretório, dependendo do que for passado no parâmetro \"show\". Podendo ser \"all\", \"folders\" e \"files\". '''\n",
        "    folders = []\n",
        "    files = []\n",
        "    for i in os.walk(dir):\n",
        "        if i[1] != []:\n",
        "            for j in i[1]:\n",
        "                folders.append(j)\n",
        "        if i[2] != []:\n",
        "            for j in i[2]:\n",
        "                files.append(j)\n",
        "    if show == 'folders':\n",
        "        return folders\n",
        "    elif show == 'files':\n",
        "        return files\n",
        "    else:\n",
        "        all = folders\n",
        "        all.extend(files)\n",
        "        return all\n",
        "\n",
        "# Parameters:\n",
        "dir = './'\n",
        "\n",
        "# Results:\n",
        "print('Subpastas: ', create_dir_list(dir, show = 'folders'), '\\n')\n",
        "print('Arquivos: ', create_dir_list(dir, show = 'files'), '\\n')\n",
        "print('Tudo: ', create_dir_list(dir))"
      ],
      "execution_count": 3,
      "outputs": [
        {
          "output_type": "stream",
          "name": "stdout",
          "text": [
            "Subpastas:  ['.config', 'sample_data', 'logs', 'configurations', '2021.11.18'] \n",
            "\n",
            "Arquivos:  ['dados_alunos.txt', 'active_config', '.last_survey_prompt.yaml', '.last_update_check.json', '.last_opt_in_prompt.yaml', 'config_sentinel', 'gce', '14.35.09.738473.log', '14.35.57.849518.log', '14.35.29.959577.log', '14.34.49.152157.log', '14.35.58.667492.log', '14.35.36.918574.log', 'config_default', 'anscombe.json', 'README.md', 'mnist_train_small.csv', 'california_housing_train.csv', 'california_housing_test.csv', 'mnist_test.csv'] \n",
            "\n",
            "Tudo:  ['.config', 'sample_data', 'logs', 'configurations', '2021.11.18', 'dados_alunos.txt', 'active_config', '.last_survey_prompt.yaml', '.last_update_check.json', '.last_opt_in_prompt.yaml', 'config_sentinel', 'gce', '14.35.09.738473.log', '14.35.57.849518.log', '14.35.29.959577.log', '14.34.49.152157.log', '14.35.58.667492.log', '14.35.36.918574.log', 'config_default', 'anscombe.json', 'README.md', 'mnist_train_small.csv', 'california_housing_train.csv', 'california_housing_test.csv', 'mnist_test.csv']\n"
          ]
        }
      ]
    },
    {
      "cell_type": "code",
      "metadata": {
        "colab": {
          "base_uri": "https://localhost:8080/"
        },
        "id": "K878BBpf45gB",
        "outputId": "e9356cc9-38e2-4d4b-8533-a74d04d77fe2"
      },
      "source": [
        "%%writefile lcount.py\n",
        "\n",
        "def linecount(filename):\n",
        "    count = 0\n",
        "    for line in open(filename):\n",
        "        count += 1\n",
        "    return count\n",
        "\n",
        "linecount('lcount.py')"
      ],
      "execution_count": 4,
      "outputs": [
        {
          "output_type": "stream",
          "name": "stdout",
          "text": [
            "Writing lcount.py\n"
          ]
        }
      ]
    },
    {
      "cell_type": "code",
      "metadata": {
        "colab": {
          "base_uri": "https://localhost:8080/"
        },
        "id": "S6fF1kj448Kp",
        "outputId": "de5f15f9-928e-4024-830e-89e4c325a911"
      },
      "source": [
        "import lcount\n",
        "\n",
        "print(__name__)"
      ],
      "execution_count": 5,
      "outputs": [
        {
          "output_type": "stream",
          "name": "stdout",
          "text": [
            "__main__\n"
          ]
        }
      ]
    },
    {
      "cell_type": "code",
      "metadata": {
        "colab": {
          "base_uri": "https://localhost:8080/"
        },
        "id": "WOaqoYka4-ZK",
        "outputId": "162217b0-122e-4eee-8d63-de6f1795f321"
      },
      "source": [
        "# Functions:\n",
        "def ler_arquivos(data_file, separator = ','):\n",
        "    ''' Retorna listas de dados separados pelo parâmetro \"separator\". '''\n",
        "    try:\n",
        "        lines = open(data_file).readlines()\n",
        "        return [line.strip().lower().split(separator) for line in lines]\n",
        "    except:\n",
        "        return 'O arquivo não existe!'\n",
        "\n",
        "def create_list(data, item):\n",
        "    ''' Retorna uma lista a partir dos dados do parâmetro \"data\", de um item em especifico informado no parâmetro \"item\". '''\n",
        "    item = item.strip().lower()\n",
        "    if item in data[0]:\n",
        "        new_list = []\n",
        "        position = data[0].index(item)\n",
        "        for i in data:\n",
        "            new_list.append(i[position])\n",
        "        return [float(i) for i in new_list[1:]]\n",
        "    else:\n",
        "        return 'Não existe dados sobre este item.'\n",
        "\n",
        "# Parameters:\n",
        "data = ler_arquivos('dados_alunos.txt')\n",
        "idade = create_list(data, 'idade')\n",
        "altura = create_list(data, 'altura')\n",
        "peso = create_list(data, 'peso')\n",
        "\n",
        "# Results:\n",
        "print('\\nDados:', data, '\\n')\n",
        "print('Idades: ', idade, '\\n')\n",
        "print('Alturas: ', altura, '\\n')\n",
        "print('Pesos: ', peso, '\\n')"
      ],
      "execution_count": 6,
      "outputs": [
        {
          "output_type": "stream",
          "name": "stdout",
          "text": [
            "\n",
            "Dados: [['idade', 'altura', 'peso'], ['18', '1.68', '80'], ['18', '1.94', '60'], ['18', '1.7', '80'], ['18', '1.76', '66'], ['19', '1.73', '87.5'], ['18', '1.66', '58'], ['21', '1.8', '92'], ['18', '1.6', '57'], ['18', '1.67', '64'], ['18', '1.73', '57'], ['17', '1.73', '75'], ['18', '1.61', '59'], ['18', '1.69', '90'], ['17', '1.71', '67'], ['19', '1.78', '60'], ['22', '1.68', '72'], ['18', '1.7', '73'], ['19', '1.64', '86'], ['18', '1.64', '75'], ['20', '1.8', '95'], ['17', '1.75', '60'], ['18', '1.78', '75'], ['18', '1.75', '65'], ['17', '1.69', '60'], ['19', '1.78', '73'], ['18', '1.7', '63'], ['34', '1.75', '78'], ['18', '1.64', '64'], ['19', '1.75', '50'], ['18', '1.67', '61'], ['18', '1.7', '70'], ['20', '1.8', '60'], ['18', '1.63', '57'], ['23', '1.89', '110'], ['18', '1.71', '71'], ['18', '1.65', '65'], ['17', '1.72', '67'], ['19', '1.65', '58'], ['18', '1.75', '90'], ['18', '1.7', '64'], ['19', '1.81', '70'], ['19', '1.65', '43'], ['28', '1.52', '50'], ['19', '1.79', '78'], ['26', '1.79', '82'], ['19', '1.75', '61'], ['19', '1.8', '70'], ['20', '1.75', '70'], ['20', '1.73', '70'], ['19', '1.7', '50'], ['22', '1.78', '72'], ['19', '1.77', '55'], ['18', '1.53', '58'], ['28', '1.54', '50'], ['20', '1.83', '70'], ['44', '1.85', '90'], ['18', '1.6', '51']] \n",
            "\n",
            "Idades:  [18.0, 18.0, 18.0, 18.0, 19.0, 18.0, 21.0, 18.0, 18.0, 18.0, 17.0, 18.0, 18.0, 17.0, 19.0, 22.0, 18.0, 19.0, 18.0, 20.0, 17.0, 18.0, 18.0, 17.0, 19.0, 18.0, 34.0, 18.0, 19.0, 18.0, 18.0, 20.0, 18.0, 23.0, 18.0, 18.0, 17.0, 19.0, 18.0, 18.0, 19.0, 19.0, 28.0, 19.0, 26.0, 19.0, 19.0, 20.0, 20.0, 19.0, 22.0, 19.0, 18.0, 28.0, 20.0, 44.0, 18.0] \n",
            "\n",
            "Alturas:  [1.68, 1.94, 1.7, 1.76, 1.73, 1.66, 1.8, 1.6, 1.67, 1.73, 1.73, 1.61, 1.69, 1.71, 1.78, 1.68, 1.7, 1.64, 1.64, 1.8, 1.75, 1.78, 1.75, 1.69, 1.78, 1.7, 1.75, 1.64, 1.75, 1.67, 1.7, 1.8, 1.63, 1.89, 1.71, 1.65, 1.72, 1.65, 1.75, 1.7, 1.81, 1.65, 1.52, 1.79, 1.79, 1.75, 1.8, 1.75, 1.73, 1.7, 1.78, 1.77, 1.53, 1.54, 1.83, 1.85, 1.6] \n",
            "\n",
            "Pesos:  [80.0, 60.0, 80.0, 66.0, 87.5, 58.0, 92.0, 57.0, 64.0, 57.0, 75.0, 59.0, 90.0, 67.0, 60.0, 72.0, 73.0, 86.0, 75.0, 95.0, 60.0, 75.0, 65.0, 60.0, 73.0, 63.0, 78.0, 64.0, 50.0, 61.0, 70.0, 60.0, 57.0, 110.0, 71.0, 65.0, 67.0, 58.0, 90.0, 64.0, 70.0, 43.0, 50.0, 78.0, 82.0, 61.0, 70.0, 70.0, 70.0, 50.0, 72.0, 55.0, 58.0, 50.0, 70.0, 90.0, 51.0] \n",
            "\n"
          ]
        }
      ]
    },
    {
      "cell_type": "code",
      "metadata": {
        "colab": {
          "base_uri": "https://localhost:8080/"
        },
        "id": "CDOSI7Vq5B3k",
        "outputId": "b4c07a29-abf0-4594-8838-c6a54fd050c4"
      },
      "source": [
        "%%writefile read_data.py\n",
        "\n",
        "def ler_arquivos(data_file, separator = ','):\n",
        "    ''' Retorna listas de dados separados pelo parâmetro \"separator\". '''\n",
        "    try:\n",
        "        lines = open(data_file).readlines()\n",
        "        return [line.strip().lower().split(separator) for line in lines]\n",
        "    except:\n",
        "        return 'O arquivo não existe!'\n",
        "\n",
        "def create_list(data, item):\n",
        "    ''' Retorna uma lista a partir dos dados do parâmetro \"data\", de um item em especifico informado no parâmetro \"item\". '''\n",
        "    item = item.strip().lower()\n",
        "    if item in data[0]:\n",
        "        new_list = []\n",
        "        position = data[0].index(item)\n",
        "        for i in data:\n",
        "            new_list.append(i[position])\n",
        "        return [float(i) for i in new_list[1:]]\n",
        "    else:\n",
        "        return 'Não existe dados sobre este item.'"
      ],
      "execution_count": 7,
      "outputs": [
        {
          "output_type": "stream",
          "name": "stdout",
          "text": [
            "Writing read_data.py\n"
          ]
        }
      ]
    },
    {
      "cell_type": "code",
      "metadata": {
        "colab": {
          "base_uri": "https://localhost:8080/",
          "height": 974
        },
        "id": "0oinczp75E-E",
        "outputId": "6d8b1e89-010a-43c0-afef-0928d54f413f"
      },
      "source": [
        "import read_data\n",
        "\n",
        "def plot_histogram(title, data_list, color, bins = 10):\n",
        "    ''' Cria um histograma com titulo, dados, cor e número de intervalos. '''\n",
        "    plt.figure(figsize = (15, 5))\n",
        "    plt.title(title)\n",
        "    plt.hist(data_list, bins = bins, color = color)\n",
        "    plt.grid(True)\n",
        "    plt.show()\n",
        "\n",
        "# Parameters:\n",
        "data = read_data.ler_arquivos('dados_alunos.txt')\n",
        "idade = read_data.create_list(data, 'idade')\n",
        "altura = read_data.create_list(data, 'altura')\n",
        "peso = read_data.create_list(data, 'peso')\n",
        "idade.sort(key = int)\n",
        "altura.sort(key = float)\n",
        "peso.sort(key = float)\n",
        "\n",
        "# Plot:\n",
        "plot_histogram('Idade x Frequência', idade, 'red')\n",
        "plot_histogram('Altura x Frequência', altura, 'green')\n",
        "plot_histogram('Peso x Frequência', peso, 'blue')"
      ],
      "execution_count": 8,
      "outputs": [
        {
          "output_type": "display_data",
          "data": {
            "image/png": "[encoded data removed]",
            "text/plain": [
              "<Figure size 1080x360 with 1 Axes>"
            ]
          },
          "metadata": {
            "needs_background": "light"
          }
        },
        {
          "output_type": "display_data",
          "data": {
            "image/png": "[encoded data removed]",
            "text/plain": [
              "<Figure size 1080x360 with 1 Axes>"
            ]
          },
          "metadata": {
            "needs_background": "light"
          }
        },
        {
          "output_type": "display_data",
          "data": {
            "image/png": "[encoded data removed]",
            "text/plain": [
              "<Figure size 1080x360 with 1 Axes>"
            ]
          },
          "metadata": {
            "needs_background": "light"
          }
        }
      ]
    },
    {
      "cell_type": "code",
      "metadata": {
        "colab": {
          "base_uri": "https://localhost:8080/"
        },
        "id": "sNE3KnvM5JgT",
        "outputId": "d5e747b9-17cb-49a3-edf7-5b6a58d0e2b2"
      },
      "source": [
        "from statistics import mean, pstdev, stdev\n",
        "\n",
        "def info(itens):\n",
        "    ''' Imprime os dados, média, desvio padrão amostral e desvio padrão populacional de uma lista. '''\n",
        "    print('Dados:', itens)\n",
        "    print('Média:', mean(itens))\n",
        "    print('Desvio padrão amostral:', stdev(itens))\n",
        "    print('Desvio padrão populacional:', pstdev(itens), '\\n')\n",
        "\n",
        "info(idade)\n",
        "info(altura)\n",
        "info(peso)"
      ],
      "execution_count": 9,
      "outputs": [
        {
          "output_type": "stream",
          "name": "stdout",
          "text": [
            "Dados: [17.0, 17.0, 17.0, 17.0, 17.0, 18.0, 18.0, 18.0, 18.0, 18.0, 18.0, 18.0, 18.0, 18.0, 18.0, 18.0, 18.0, 18.0, 18.0, 18.0, 18.0, 18.0, 18.0, 18.0, 18.0, 18.0, 18.0, 18.0, 18.0, 18.0, 19.0, 19.0, 19.0, 19.0, 19.0, 19.0, 19.0, 19.0, 19.0, 19.0, 19.0, 19.0, 19.0, 20.0, 20.0, 20.0, 20.0, 20.0, 21.0, 22.0, 22.0, 23.0, 26.0, 28.0, 28.0, 34.0, 44.0]\n",
            "Média: 19.82456140350877\n",
            "Desvio padrão amostral: 4.452618840226598\n",
            "Desvio padrão populacional: 4.413387953566483 \n",
            "\n",
            "Dados: [1.52, 1.53, 1.54, 1.6, 1.6, 1.61, 1.63, 1.64, 1.64, 1.64, 1.65, 1.65, 1.65, 1.66, 1.67, 1.67, 1.68, 1.68, 1.69, 1.69, 1.7, 1.7, 1.7, 1.7, 1.7, 1.7, 1.71, 1.71, 1.72, 1.73, 1.73, 1.73, 1.73, 1.75, 1.75, 1.75, 1.75, 1.75, 1.75, 1.75, 1.76, 1.77, 1.78, 1.78, 1.78, 1.78, 1.79, 1.79, 1.8, 1.8, 1.8, 1.8, 1.81, 1.83, 1.85, 1.89, 1.94]\n",
            "Média: 1.7175438596491228\n",
            "Desvio padrão amostral: 0.08261962543043672\n",
            "Desvio padrão populacional: 0.08189168502559452 \n",
            "\n",
            "Dados: [43.0, 50.0, 50.0, 50.0, 50.0, 51.0, 55.0, 57.0, 57.0, 57.0, 58.0, 58.0, 58.0, 59.0, 60.0, 60.0, 60.0, 60.0, 60.0, 61.0, 61.0, 63.0, 64.0, 64.0, 64.0, 65.0, 65.0, 66.0, 67.0, 67.0, 70.0, 70.0, 70.0, 70.0, 70.0, 70.0, 71.0, 72.0, 72.0, 73.0, 73.0, 75.0, 75.0, 75.0, 78.0, 78.0, 80.0, 80.0, 82.0, 86.0, 87.5, 90.0, 90.0, 90.0, 92.0, 95.0, 110.0]\n",
            "Média: 68.5\n",
            "Desvio padrão amostral: 13.225381441974152\n",
            "Desvio padrão populacional: 13.108855986056064 \n",
            "\n"
          ]
        }
      ]
    }
  ]
}