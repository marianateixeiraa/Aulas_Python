{
  "nbformat": 4,
  "nbformat_minor": 0,
  "metadata": {
    "colab": {
      "name": "ExercícioAula3.ipynb",
      "provenance": [],
      "authorship_tag": "ABX9TyODJb+tq17bnoAi9ToWIsMp",
      "include_colab_link": true
    },
    "kernelspec": {
      "name": "python3",
      "display_name": "Python 3"
    },
    "language_info": {
      "name": "python"
    }
  },
  "cells": [
    {
      "cell_type": "markdown",
      "metadata": {
        "id": "view-in-github",
        "colab_type": "text"
      },
      "source": [
        "<a href=\"https://colab.research.google.com/github/marianateixeiraa/Aulas_Python/blob/main/dir_exercise/Exerc%C3%ADcioAula3.ipynb\" target=\"_parent\"><img src=\"https://colab.research.google.com/assets/colab-badge.svg\" alt=\"Open In Colab\"/></a>"
      ]
    },
    {
      "cell_type": "markdown",
      "metadata": {
        "id": "K1bOZX9t9Kce"
      },
      "source": [
        "**Exercício 1**: Crie uma funcão que tome um argumento e imprima o valor e o tipo dele."
      ]
    },
    {
      "cell_type": "code",
      "metadata": {
        "colab": {
          "base_uri": "https://localhost:8080/"
        },
        "id": "8GjxovIa9FMZ",
        "outputId": "a0349277-7a85-4888-ea83-83e6a1bcff82"
      },
      "source": [
        "def f(x):\n",
        "    print(x**2)\n",
        "f(5)"
      ],
      "execution_count": 26,
      "outputs": [
        {
          "output_type": "stream",
          "text": [
            "25\n"
          ],
          "name": "stdout"
        }
      ]
    },
    {
      "cell_type": "markdown",
      "metadata": {
        "id": "s8-1gFlF9QWH"
      },
      "source": [
        "**Exercício 2**: Crie uma função que calcule e imprima velocidade media de um objeto a partir de uma posição inicial, a final e o tempo transcorrido para um objeto em MRU. Também crie uma funcão que calcule e imprima a velocidade de um objeto a partir da aceleração constante e o tempo (MRUA) (p.ex. queda livre)."
      ]
    },
    {
      "cell_type": "code",
      "metadata": {
        "colab": {
          "base_uri": "https://localhost:8080/"
        },
        "id": "hZltB4dahlIl",
        "outputId": "ebd8e26f-214f-4acf-b994-71ff0004ed06"
      },
      "source": [
        "def velocidade_media(Si, Sf, t):     #cálculo do MRU\n",
        "        print((Sf-Si)/(t))\n",
        "velocidade_media(0, 10, 5)"
      ],
      "execution_count": 22,
      "outputs": [
        {
          "output_type": "stream",
          "text": [
            "2.0\n"
          ],
          "name": "stdout"
        }
      ]
    },
    {
      "cell_type": "code",
      "metadata": {
        "colab": {
          "base_uri": "https://localhost:8080/"
        },
        "id": "_BBKxtA99buz",
        "outputId": "ee1bb8d3-fb2b-451c-d88e-1b87ff0fcf96"
      },
      "source": [
        "def queda_livre(gravidade, tempo):     #cálculo do MRUA\n",
        "      print(gravidade*tempo)\n",
        "queda_livre(9.8, 0.7)"
      ],
      "execution_count": 19,
      "outputs": [
        {
          "output_type": "stream",
          "text": [
            "6.86\n"
          ],
          "name": "stdout"
        }
      ]
    },
    {
      "cell_type": "markdown",
      "metadata": {
        "id": "fNlr4N959cHb"
      },
      "source": [
        "**Exercício 3**: Crie uma funcão para calcular o ángulo zenital do sol (da semana passada) tomando como argumento as medidas da altura e o comprimento da sombra."
      ]
    },
    {
      "cell_type": "code",
      "metadata": {
        "colab": {
          "base_uri": "https://localhost:8080/"
        },
        "id": "OCSw8I3w9hu0",
        "outputId": "32782135-aafb-40de-f9f3-d9feb0f8b798"
      },
      "source": [
        "import math\n",
        "def angulo(altura, distancia):\n",
        "     print((math.atan(altura/distancia)))\n",
        "angulo(5, 0.5)"
      ],
      "execution_count": 27,
      "outputs": [
        {
          "output_type": "stream",
          "text": [
            "1.4711276743037347\n"
          ],
          "name": "stdout"
        }
      ]
    },
    {
      "cell_type": "markdown",
      "metadata": {
        "id": "pVooQ05g9iK4"
      },
      "source": [
        "**Exercício 4**: Crie uma função que faça a conversão de uma medida inicialmente em milhas para m, e outra para o inverso; uma de horas para segundos, e o inverso. Utilize estas funções para resolver novamente o primeiro exercício da semana passada (da corrida). Se uma pessoa demora 30 minutos em 4 milhas, qual velocidade media em km/h ? e o tempo medio por kilometro?"
      ]
    },
    {
      "cell_type": "code",
      "metadata": {
        "id": "_zzOWpix9r_s"
      },
      "source": [
        "def converter(milhas):\n",
        "    m=1609*milhas\n",
        "    print(\"m\")\n",
        "    print(m)\n"
      ],
      "execution_count": 29,
      "outputs": []
    },
    {
      "cell_type": "code",
      "metadata": {
        "id": "so0jjS4Vm4X_"
      },
      "source": [
        "def converter(metro):\n",
        "      milhas=metro/1609\n",
        "      print(\"milhas\")\n",
        "      print(milhas)"
      ],
      "execution_count": 30,
      "outputs": []
    },
    {
      "cell_type": "code",
      "metadata": {
        "id": "2jhqIHdwnTLn"
      },
      "source": [
        "def converter(horas):\n",
        "      segundos= horas*3600\n",
        "      print(\"horas\")\n",
        "      print(horas)"
      ],
      "execution_count": 31,
      "outputs": []
    },
    {
      "cell_type": "code",
      "metadata": {
        "id": "nsq7HBTfnntd"
      },
      "source": [
        "def converter(segundos):\n",
        "      horas= segundos/3600\n",
        "      print(\"segundos\")\n",
        "      print(segundos)"
      ],
      "execution_count": 32,
      "outputs": []
    },
    {
      "cell_type": "markdown",
      "metadata": {
        "id": "FbL8mfpr9sYZ"
      },
      "source": [
        "**Exercício 5**: Crie funções para calcular os outros exemplos das aulas anteriores: IMC, volume de uma esfera, distancia entre pontos de máximos de difração. Decida quais serão os argumentos e o valor retornado."
      ]
    },
    {
      "cell_type": "code",
      "metadata": {
        "colab": {
          "base_uri": "https://localhost:8080/"
        },
        "id": "fBGV0Zhr9yK6",
        "outputId": "f33b4b4b-3e57-4e96-fd2f-37f280e6cd64"
      },
      "source": [
        "def calculo_imc(peso, altura):    #cálculo do IMC\n",
        "     print(peso/altura**2)\n",
        "     \n",
        "calculo_imc(11,0.75)"
      ],
      "execution_count": 35,
      "outputs": [
        {
          "output_type": "stream",
          "text": [
            "19.555555555555557\n"
          ],
          "name": "stdout"
        }
      ]
    },
    {
      "cell_type": "code",
      "metadata": {
        "colab": {
          "base_uri": "https://localhost:8080/"
        },
        "id": "VvOVxEF-eFGr",
        "outputId": "bc54ba9f-aeb6-4948-d11f-61442af87bbb"
      },
      "source": [
        "def volume_esfera(raio, pi):         #cálculo do volume da esfera\n",
        "        print((4*pi*raio**3)/(3))\n",
        "volume_esfera(5,3)"
      ],
      "execution_count": 24,
      "outputs": [
        {
          "output_type": "stream",
          "text": [
            "500.0\n"
          ],
          "name": "stdout"
        }
      ]
    },
    {
      "cell_type": "code",
      "metadata": {
        "colab": {
          "base_uri": "https://localhost:8080/"
        },
        "id": "KHdn7FCBfIru",
        "outputId": "b3506653-ac80-4b3c-b0af-a94b7afd4516"
      },
      "source": [
        "def difr(lam, Dis1, dis2):    #cálculo da difração\n",
        "     print((lam*Dis1)/(dis2))\n",
        "difr(632.8, 1.98, 0.250)"
      ],
      "execution_count": 25,
      "outputs": [
        {
          "output_type": "stream",
          "text": [
            "5011.776\n"
          ],
          "name": "stdout"
        }
      ]
    }
  ]
}