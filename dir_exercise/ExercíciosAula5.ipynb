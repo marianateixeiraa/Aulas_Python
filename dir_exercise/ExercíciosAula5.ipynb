{
  "nbformat": 4,
  "nbformat_minor": 0,
  "metadata": {
    "colab": {
      "name": "ExercíciosAula5.ipynb",
      "provenance": [],
      "authorship_tag": "ABX9TyOCJ2uZbssI8Z+RO8k7ilwB",
      "include_colab_link": true
    },
    "kernelspec": {
      "name": "python3",
      "display_name": "Python 3"
    },
    "language_info": {
      "name": "python"
    }
  },
  "cells": [
    {
      "cell_type": "markdown",
      "metadata": {
        "id": "view-in-github",
        "colab_type": "text"
      },
      "source": [
        "<a href=\"https://colab.research.google.com/github/marianateixeiraa/Aulas_Python/blob/main/dir_exercise/Exerc%C3%ADciosAula5.ipynb\" target=\"_parent\"><img src=\"https://colab.research.google.com/assets/colab-badge.svg\" alt=\"Open In Colab\"/></a>"
      ]
    },
    {
      "cell_type": "markdown",
      "metadata": {
        "id": "rPK8PshZdn_m"
      },
      "source": [
        "1) Modifique o programa da tartaruga (primeiro exemplo) para que, antes de criar a janela, ele solicite que o usuário insira a cor de fundo desejada. Ele deve armazenar as respostas do usuário em uma variável e modificar a cor da janela de acordo com os desejos do usuário.\n",
        "\n",
        "Dicas: faça uso da função input, built-in do python"
      ]
    },
    {
      "cell_type": "code",
      "metadata": {
        "id": "kdxNLP4Sdc1C"
      },
      "source": [
        "import turtle\n",
        " \n",
        "#Configurar a janela e seus atributos\n",
        "minhacor = input(\"Qual a cor?\")\n",
        "minhacor                       \n",
        "ll = turtle.Screen() \n",
        "ll.bgcolor(minhacor)\n",
        "\n",
        "\n",
        "lilo = turtle.Turtle()  \n",
        "lilo.color(\"peach puff\")              #Configurações da tartaruga\n",
        "lilo.pensize(10)\n",
        "lilo.shape(\"turtle\")\n",
        "lilo.speed(1)\n",
        "\n",
        "\n",
        "for i in range(4):\n",
        "  lilo.forward(100)                     #Configurações de andar da tartaruga\n",
        "  lilo.left(90)"
      ],
      "execution_count": null,
      "outputs": []
    },
    {
      "cell_type": "markdown",
      "metadata": {
        "id": "yFlBPQPLAvbb"
      },
      "source": [
        "2)Faça modificações similares para permitir que o usuário mude a cor da tartaruga durante a execução do programa."
      ]
    },
    {
      "cell_type": "code",
      "metadata": {
        "id": "2AljY0etAyqP"
      },
      "source": [
        "import turtle\n",
        " \n",
        "#Configurar a janela e seus atributos\n",
        "minhacor = input(\"Qual a cor?\")\n",
        "minhacor                       \n",
        "ll = turtle.Screen() \n",
        "ll.bgcolor(minhacor)\n",
        "\n",
        "#Configurações da tartaruga\n",
        "lilo = turtle.Turtle() \n",
        "ttcolor = input(\"Qual a cor da tartaruga?\")\n",
        "ttcolor          \n",
        "lilo.color(ttcolor)                \n",
        "lilo.pensize(10)\n",
        "lilo.shape(\"turtle\")\n",
        "lilo.speed(1)\n",
        "\n",
        "#Configurações de andar da tartaruga\n",
        "for i in range(4):\n",
        "  lilo.forward(100)                    \n",
        "  lilo.left(90)"
      ],
      "execution_count": null,
      "outputs": []
    },
    {
      "cell_type": "markdown",
      "metadata": {
        "id": "bQHJXkFXAzGo"
      },
      "source": [
        "3)Investiguem os métodos e tipos do módulo turtle"
      ]
    },
    {
      "cell_type": "code",
      "metadata": {
        "id": "zJgheGYNA3wl"
      },
      "source": [
        "import turtle\n",
        " \n",
        "#Configurar a janela e seus atributos:\n",
        "minhacor = input(\"Qual a cor?\")\n",
        "minhacor                       \n",
        "ll = turtle.Screen() \n",
        "ll.bgcolor(minhacor)\n",
        "\n",
        "#Configurações da tartaruga:\n",
        "\n",
        "#Configuração de cor da tartaruga\n",
        "lilo = turtle.Turtle() \n",
        "lilo.shape(\"turtle\")\n",
        "ttcolor = input(\"Qual a cor da tartaruga?\")\n",
        "ttcolor          \n",
        "lilo.color(ttcolor)\n",
        "\n",
        "#Configuração pensize da tartaruga\n",
        "pen = input(\"Qual o tamanho?\")\n",
        "pen\n",
        "lilo.pensize(pen)\n",
        "\n",
        "#Configuração da velocidade da tartaruga\n",
        "rap = input(\"Qual a velocidade?\")\n",
        "rap\n",
        "lilo.speed(rap)\n",
        "\n",
        "#Configurações de andar da tartaruga\n",
        "for i in range(4):\n",
        "  lilo.forward(100)                     \n",
        "  lilo.left(90)"
      ],
      "execution_count": null,
      "outputs": []
    },
    {
      "cell_type": "markdown",
      "metadata": {
        "id": "IYknMCTxxFZi"
      },
      "source": [
        "4)Desenhe um quadrado, usando a forma de tartaruga, ao invés da flecha, para desenhar."
      ]
    },
    {
      "cell_type": "code",
      "metadata": {
        "id": "ufi2Ar9MxIXI"
      },
      "source": [
        "import turtle\n",
        "nd= turtle.Screen()         # Configurar a janela e seus atributos\n",
        "nd.bgcolor(\"lightblue\")\n",
        "\n",
        "nd = turtle.Screen()\n",
        "neide = turtle.Turtle()\n",
        "neide.color(\"dark green\")      #cor da tartaruga\n",
        "neide.shape(\"turtle\")         #forma da tartaruga\n",
        "neide.pensize(5)             #tamanho da tartaruga\n",
        "\n",
        "for i in range(4):\n",
        "  neide.speed(1)\n",
        "  neide.forward(100)\n",
        "  neide.left(90)"
      ],
      "execution_count": null,
      "outputs": []
    },
    {
      "cell_type": "markdown",
      "metadata": {
        "id": "8YUM8ElBwdCP"
      },
      "source": [
        "5)Sabendo que o ângulo interno da ponta de uma estrela de 5 pontas é de 36 graus, desenhe uma estrela em uma janela"
      ]
    },
    {
      "cell_type": "code",
      "metadata": {
        "id": "mgD_Ov3HwkJS"
      },
      "source": [
        "import turtle\n",
        "nl = turtle.Screen()         # Configurar a janela e seus atributos\n",
        "nl.bgcolor(\"lightblue\")\n",
        "\n",
        "nl = turtle.Screen()\n",
        "nilson = turtle.Turtle()\n",
        "nilson.color(\"peach puff\")      #cor da tartaruga\n",
        "nilson.shape(\"turtle\")         #forma da tartaruga\n",
        "nilson.pensize(5)             #tamanho da tartaruga\n",
        "\n",
        "for i in range(10):\n",
        "  nilson.speed(2)\n",
        "  nilson.forward(100)\n",
        "  nilson.left(180-36)\n",
        "  \n",
        "nilson.mainloop()"
      ],
      "execution_count": null,
      "outputs": []
    },
    {
      "cell_type": "markdown",
      "metadata": {
        "id": "IWTvb77Pwo6B"
      },
      "source": [
        "6)Sabendo o ângulo interno da ponta de uma estrela, desenhe quatro estrelas em uma janela, com uma certa distância entre elas. Dica: use a função penup() e pendown() do módulo turtle"
      ]
    },
    {
      "cell_type": "code",
      "metadata": {
        "id": "ByetJ8TtwstZ"
      },
      "source": [
        "import turtle\n",
        "nl = turtle.Screen()         # Configurar a janela e seus atributos\n",
        "nl.bgcolor(\"lightblue\")\n",
        "\n",
        "nl = turtle.Screen()\n",
        "nilson = turtle.Turtle()\n",
        "nilson.color(\"peach puff\")      #cor da tartaruga\n",
        "nilson.shape(\"turtle\")         #forma da tartaruga\n",
        "nilson.pensize(5)             #tamanho da tartaruga\n",
        "\n",
        "for i in range(5):\n",
        "  nilson.speed(6)\n",
        "  nilson.forward(100)\n",
        "  nilson.left(180-36)\n",
        "  \n",
        "nilson.penup()\n",
        "nilson.goto(-100,35)\n",
        "nilson.pendown()\n",
        "\n",
        "for i in range(5):\n",
        "  nilson.speed(6)\n",
        "  nilson.forward(100)\n",
        "  nilson.left(180-36)\n",
        "  \n",
        "  \n",
        "nilson.penup()\n",
        "nilson.goto(100,-20)\n",
        "nilson.pendown()\n",
        "\n",
        "for i in range(5):\n",
        "  nilson.speed(6)\n",
        "  nilson.forward(100)\n",
        "  nilson.left(180-36)"
      ],
      "execution_count": null,
      "outputs": []
    }
  ]
}