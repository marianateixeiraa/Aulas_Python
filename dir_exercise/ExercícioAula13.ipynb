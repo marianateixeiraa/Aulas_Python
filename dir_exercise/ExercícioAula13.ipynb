{
  "nbformat": 4,
  "nbformat_minor": 0,
  "metadata": {
    "colab": {
      "name": "ExercícioAula13.ipynb",
      "provenance": [],
      "authorship_tag": "ABX9TyMyPa3PJAYuDOuT+6xEv/hW",
      "include_colab_link": true
    },
    "kernelspec": {
      "name": "python3",
      "display_name": "Python 3"
    },
    "language_info": {
      "name": "python"
    }
  },
  "cells": [
    {
      "cell_type": "markdown",
      "metadata": {
        "id": "view-in-github",
        "colab_type": "text"
      },
      "source": [
        "<a href=\"https://colab.research.google.com/github/marianateixeiraa/Aulas_Python/blob/main/dir_exercise/Exerc%C3%ADcioAula13.ipynb\" target=\"_parent\"><img src=\"https://colab.research.google.com/assets/colab-badge.svg\" alt=\"Open In Colab\"/></a>"
      ]
    },
    {
      "cell_type": "code",
      "metadata": {
        "id": "yOj65qrPoVVi"
      },
      "source": [
        "class Ponto:\n",
        "  \"\"\" Cria um novo Ponto, com coordenadas x, y \"\"\"\n",
        "\n",
        "  def __init__(self, x=0, y=0):\n",
        "    \"\"\" Inicializa em x, y o novo ponto criado pela classe \"\"\"\n",
        "    self.x = x\n",
        "    self.y = y\n",
        "\n",
        "  def distancia_da_origem(self):\n",
        "    \"\"\" Calcula minha distânica da origem \"\"\"\n",
        "    return ((self.x ** 2) + (self.y ** 2)) ** 0.5\n",
        "    \n",
        "  def ponto_medio(self, alvo):\n",
        "    \"\"\" Retorna o ponto medio entre esse ponto e o alvo \"\"\"\n",
        "    mx = (self.x + alvo.x)/2\n",
        "    my = (self.y + alvo.y)/2\n",
        "    return Ponto(mx, my)\n",
        "\n",
        "  def distancia_entre_dois_pontos(self, alvo):\n",
        "    \"\"\" Retorna a distância entre dois pontos \"\"\"\n",
        "    dx = (self.x - alvo.x)\n",
        "    dy = (self.y - alvo.y)\n",
        "    return float(((dx ** 2) + (dy ** 2))** (1/2))\n",
        "\n",
        "  def reflexao_x(self):\n",
        "    \"\"\" Retorna um ponto reflexo sobre o eixo x \"\"\"\n",
        "    return (self.x, - self.y)\n",
        "\n",
        "  def inclinacao_da_origem(self):\n",
        "     \"\"\" Retorna a inclinação da linha que une a origem ao Ponto \"\"\"\n",
        "     if (self.x) != 0:\n",
        "       return (self.y) / (self.x)\n",
        "     else:\n",
        "       print('Esse metodo falha quando os valores de x são iguais a zero pois temos uma indeterminação matemática.')\n",
        "       return 0\n",
        "      \n",
        "  def parametros_reta(self, alvo):\n",
        "    \"\"\" Retorna os parametros da reta f(x) = ax + b como uma tupla de dois valores \"\"\"\n",
        "    if (self.x) - (alvo.x) == 0:\n",
        "      return 'impossiveis de serem determinados com esses valores de x e y '\n",
        "    else:\n",
        "      a = Ponto(((self.x) - (alvo.x)), ((self.y) - (alvo.y))).inclinacao_da_origem()\n",
        "      b = (self.y) - a * (self.x)\n",
        "      return (a, b)\n",
        "\n",
        "    \n",
        "  def __str__(self):\n",
        "    return \"({0}, {1})\".format(self.x, self.y)"
      ],
      "execution_count": 3,
      "outputs": []
    },
    {
      "cell_type": "markdown",
      "metadata": {
        "id": "a8i5RAxmoCzs"
      },
      "source": [
        "5) Usando a classe **Ponto** criada na última aula escreva uma classe **Retangulo**. A definição da classe Retangulo é:"
      ]
    },
    {
      "cell_type": "code",
      "metadata": {
        "id": "yLSU0KQ1nbva"
      },
      "source": [
        "class Retangulo:\n",
        "  \"\"\"Representa um retangulo. \n",
        "\n",
        "      atributos: \n",
        "      - largura, do tipo float\n",
        "      - altura, do tipo float \n",
        "      - canto, do tipo Ponto.\n",
        "  \"\"\"\n",
        "\n",
        "  def __init__(self, canto = Ponto(0, 0), largura = 0, altura = 0):\n",
        "    \"\"\" Inicializa em canto, largura e altura o novo retangulo criado pela classe \"\"\"\n",
        "    self.largura = largura\n",
        "    self.altura = altura\n",
        "    self.canto = canto\n",
        "\n",
        "  def __str__(self):\n",
        "    return (f'{self.canto}, {(self.canto.x, self.canto.y + self.altura)}, {(self.canto.x + self.largura, self.canto.y)},'\n",
        "            f'{(self.canto.x + self.largura, self.canto.y + self.altura)}')"
      ],
      "execution_count": 4,
      "outputs": []
    },
    {
      "cell_type": "code",
      "metadata": {
        "colab": {
          "base_uri": "https://localhost:8080/"
        },
        "id": "0EVkpOPXoM7l",
        "outputId": "92506e6f-184f-41aa-a2bd-ca9b16426509"
      },
      "source": [
        "print(Retangulo(Ponto(1,2),1,3))"
      ],
      "execution_count": 5,
      "outputs": [
        {
          "output_type": "stream",
          "name": "stdout",
          "text": [
            "(1, 2), (1, 5), (2, 2),(2, 5)\n"
          ]
        }
      ]
    },
    {
      "cell_type": "markdown",
      "metadata": {
        "id": "glmqHbZkoYR_"
      },
      "source": [
        "6) Escreva uma definição para uma classe chamada **Circulo** com atributos ***centro*** e ***raio***, em que ***centro*** é um objeto do tipo **Ponto** e ***raio*** é um número.\n",
        "   * Instancie um objeto **Circulo** que represente um círculo com seu centro em (150, 100) e raio 75 e imprima na tela as coordenadas (x,y) do centro do círculo.\n",
        "   * Escreva uma função chamada ponto_no_circulo que use um Circulo e um Ponto e retorne True se o Ponto estiver dentro do círculo ou no limite do mesmo."
      ]
    },
    {
      "cell_type": "code",
      "metadata": {
        "colab": {
          "base_uri": "https://localhost:8080/"
        },
        "id": "J45o6Sv3obmV",
        "outputId": "8a481f41-e540-4f63-992a-355ffa077251"
      },
      "source": [
        "class Circulo:\n",
        "\n",
        "  # Primeira parte:\n",
        "  def __init__(self, centro=Ponto(0, 0), raio = 0):\n",
        "    \"\"\" Inicializa em ponto central e raio o novo círculo criado pela classe \"\"\"\n",
        "\n",
        "    self.centro = centro\n",
        "    self.raio = raio\n",
        "\n",
        "  def __str__(self):\n",
        "    return f'{self.centro}' #, {self.raio}'\n",
        "  \n",
        "  # Segunda parte:\n",
        "  def ponto_no_circulo(self, alvo):\n",
        "    \"\"\" Determina se um ponto pertence ou não ao cículo \"\"\"\n",
        "\n",
        "    if (alvo.x - self.centro[0]) ** 2 + (alvo.y - self.centro[1]) ** 2 <= self.raio ** 2:\n",
        "      return True\n",
        "    else:\n",
        "      return False\n",
        "\n",
        "print(Circulo((1,1), 3))\n",
        "print(Circulo((1, 1), 5).ponto_no_circulo(Ponto(4, 5))) "
      ],
      "execution_count": 7,
      "outputs": [
        {
          "output_type": "stream",
          "name": "stdout",
          "text": [
            "(1, 1)\n",
            "True\n"
          ]
        }
      ]
    }
  ]
}