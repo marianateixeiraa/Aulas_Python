{
  "nbformat": 4,
  "nbformat_minor": 0,
  "metadata": {
    "colab": {
      "name": "ExercícioAula7.ipynb",
      "provenance": [],
      "authorship_tag": "ABX9TyNoDN9ZPdjYaEyy4kW5UK9H",
      "include_colab_link": true
    },
    "kernelspec": {
      "name": "python3",
      "display_name": "Python 3"
    },
    "language_info": {
      "name": "python"
    }
  },
  "cells": [
    {
      "cell_type": "markdown",
      "metadata": {
        "id": "view-in-github",
        "colab_type": "text"
      },
      "source": [
        "<a href=\"https://colab.research.google.com/github/marianateixeiraa/Aulas_Python/blob/main/dir_exercise/Exerc%C3%ADcioAula7.ipynb\" target=\"_parent\"><img src=\"https://colab.research.google.com/assets/colab-badge.svg\" alt=\"Open In Colab\"/></a>"
      ]
    },
    {
      "cell_type": "markdown",
      "metadata": {
        "id": "Iv4V5Cr3rAIV"
      },
      "source": [
        "Exercícios 1"
      ]
    },
    {
      "cell_type": "markdown",
      "metadata": {
        "id": "zq28Pvxeq8VE"
      },
      "source": [
        "1) A conjectura de Collatz, diz que \"Todos os inteiros positivos irão eventualmente convergir para 1 usando as regras do Collatz\". Faça um programa que verifique a conjectura de Collatz para alguns valores. As regras de Collatz são:"
      ]
    },
    {
      "cell_type": "code",
      "metadata": {
        "colab": {
          "base_uri": "https://localhost:8080/"
        },
        "id": "8g4yncsaq8FT",
        "outputId": "0b849e5b-b33a-4ad8-b007-a866c477ef57"
      },
      "source": [
        "def collatz(n):\n",
        "    if n % 2 == 0:\n",
        "        n /= 2\n",
        "    else:\n",
        "        n = 3*n + 1\n",
        "    return n \n",
        "\n",
        "def draw_list(ns):\n",
        "    msg = ''\n",
        "    for i in ns:\n",
        "        msg += str(1) + ', '\n",
        "    msg = msg[:len(msg) - 2]\n",
        "    print(msg) \n",
        "\n",
        "def conjectura(n):\n",
        "    if n > 0 and isinstance(n, int):\n",
        "        ns = [n]\n",
        "        while n != 1:\n",
        "            n = collatz(n)\n",
        "            ns.append(int(n))\n",
        "        print(ns)                 # draw_list\n",
        "    else:\n",
        "        print('error') \n",
        "\n",
        "conjectura(12)"
      ],
      "execution_count": 7,
      "outputs": [
        {
          "output_type": "stream",
          "name": "stdout",
          "text": [
            "[12, 6, 3, 10, 5, 16, 8, 4, 2, 1]\n"
          ]
        }
      ]
    },
    {
      "cell_type": "markdown",
      "metadata": {
        "id": "95pM7Mgpq5hl"
      },
      "source": [
        "2) Modifique a função counter para contar o número de vezes que os dígitos 0 e 5 aparecem em um dado número n. Por exemplo, n = 10568, tem 2 dígitos 0 ou 5."
      ]
    },
    {
      "cell_type": "code",
      "metadata": {
        "id": "lxAXGJfXq5Kh",
        "colab": {
          "base_uri": "https://localhost:8080/"
        },
        "outputId": "c19b9571-278c-4832-d38e-ca1d36ebee78"
      },
      "source": [
        "def counter_0and5(n):\n",
        "    \n",
        "    count = 0\n",
        "    while n != 0:\n",
        "        if n % 5 == 0:\n",
        "            count = count + 1\n",
        "        n = n // 10\n",
        "    return count\n",
        "        \n",
        "counter_0and5(51005)"
      ],
      "execution_count": 8,
      "outputs": [
        {
          "output_type": "execute_result",
          "data": {
            "text/plain": [
              "4"
            ]
          },
          "metadata": {},
          "execution_count": 8
        }
      ]
    },
    {
      "cell_type": "markdown",
      "metadata": {
        "id": "Qjpot3zvq17b"
      },
      "source": [
        "3) Encapsule e generalize a seguinte declaração:"
      ]
    },
    {
      "cell_type": "code",
      "metadata": {
        "id": "igTWhghGq1nm",
        "colab": {
          "base_uri": "https://localhost:8080/"
        },
        "outputId": "24f9303a-061e-4134-f1f7-3fe45e9506e2"
      },
      "source": [
        "def print_firsteven(list_numbers):\n",
        "    \n",
        "    for i in list_numbers:\n",
        "        if i % 2 != 0: \n",
        "           break        \n",
        "        print(i)\n",
        "    print(\"done\") \n",
        "\n",
        "def print_alleven(list_numbers):\n",
        "\n",
        "    for i in list_numbers:\n",
        "        if i % 2 != 0: \n",
        "           continue      \n",
        "        print(i)\n",
        "    print(\"done\") \n",
        "\n",
        "print_firsteven([12, 16, 17, 24, 29])\n",
        "print_alleven([12, 16, 17, 24, 29, 30])"
      ],
      "execution_count": 9,
      "outputs": [
        {
          "output_type": "stream",
          "name": "stdout",
          "text": [
            "12\n",
            "16\n",
            "done\n",
            "12\n",
            "16\n",
            "24\n",
            "30\n",
            "done\n"
          ]
        }
      ]
    },
    {
      "cell_type": "markdown",
      "metadata": {
        "id": "NAnnYBFVqwsL"
      },
      "source": [
        "\n",
        "4) O método de Newton para raiz quadrada. Suponha que você queira calcular a raiz quadrada de n. Se você começar com quase qualquer aproximação, poderá calcular uma aproximação melhor (mais próxima da resposta real) com a seguinte fórmula: melhor = (approx + n/approx)/2\n",
        "\n",
        "Usando um loop e repetindo esta fórmula até que a melhor aproximação se aproxime o suficiente da anterior (este \"suficiente\" é arbitrario: podemos considerar uma diferença de 0,001), escreva uma função para calcular a raiz quadrada utilizando o método de Newton.\n",
        "\n",
        "Esse é um exemplo de repetição indefinida. Com qual tipo de loop você deve escrever o seu programa?"
      ]
    },
    {
      "cell_type": "code",
      "metadata": {
        "id": "gVQZwIO_qwaO",
        "colab": {
          "base_uri": "https://localhost:8080/"
        },
        "outputId": "1e6a6eef-8e7b-4468-c117-fbf9730b7ba6"
      },
      "source": [
        "def sqrt_newton(n, l):\n",
        " \n",
        "    x = n\n",
        "    while (1):\n",
        "        sqrt = 0.5*(x + n/x)\n",
        "        if abs(x - sqrt) < l:\n",
        "            break \n",
        "        x = sqrt\n",
        "    return x\n",
        "\n",
        "sqrt_newton(16, 0.001)"
      ],
      "execution_count": 10,
      "outputs": [
        {
          "output_type": "execute_result",
          "data": {
            "text/plain": [
              "4.000000636692939"
            ]
          },
          "metadata": {},
          "execution_count": 10
        }
      ]
    },
    {
      "cell_type": "code",
      "metadata": {
        "id": "OohBzRBY-mZw",
        "colab": {
          "base_uri": "https://localhost:8080/"
        },
        "outputId": "7ca3aed4-7847-4789-d43f-917bec8e44ec"
      },
      "source": [
        "def sqrt_newton(n, l):\n",
        "    \n",
        "    x = n\n",
        "    sqrt = 0.5*(x + n/x)\n",
        "    while abs(x - sqrt) > l:\n",
        "        x = sqrt\n",
        "        sqrt = 0.5*(x + n/x)\n",
        "    return x\n",
        "\n",
        "sqrt_newton(16, 0.0001)"
      ],
      "execution_count": 11,
      "outputs": [
        {
          "output_type": "execute_result",
          "data": {
            "text/plain": [
              "4.000000636692939"
            ]
          },
          "metadata": {},
          "execution_count": 11
        }
      ]
    },
    {
      "cell_type": "code",
      "metadata": {
        "id": "6mZTSca1-oIH",
        "colab": {
          "base_uri": "https://localhost:8080/"
        },
        "outputId": "239ded03-b022-430e-daf9-f9abaa6abd0b"
      },
      "source": [
        "def newton_approx(n, approx, l):\n",
        "    new_approx = (approx + n/approx)/2\n",
        "    print(new_approx)\n",
        "    if abs(new_approx - approx) < l:\n",
        "        print('test')\n",
        "        return new_approx\n",
        "    else:\n",
        "        newton_approx(n, new_approx, l)\n",
        "\n",
        "newton_approx(16, 16, 0.01)"
      ],
      "execution_count": 5,
      "outputs": [
        {
          "output_type": "stream",
          "name": "stdout",
          "text": [
            "8.5\n",
            "5.1911764705882355\n",
            "4.136664722546242\n",
            "4.002257524798522\n",
            "4.000000636692939\n",
            "test\n"
          ]
        }
      ]
    },
    {
      "cell_type": "markdown",
      "metadata": {
        "id": "WRjjNYpGquSU"
      },
      "source": [
        "Exercício 2"
      ]
    },
    {
      "cell_type": "markdown",
      "metadata": {
        "id": "Yxnr9OCP1mdx"
      },
      "source": [
        "1) O módulo time fornece uma função, também chamada time, que devolve a Hora Média de Greenwich na “época”, que é um momento arbitrário usado como ponto de referência. Em sistemas UNIX, a época é primeiro de janeiro de 1970. \n",
        "Escreva um script que leia a hora atual e a converta em um tempo em horas, minutos e segundos, mais o número de dias desde a época."
      ]
    },
    {
      "cell_type": "code",
      "metadata": {
        "id": "Aqd5kyO0q7F2",
        "colab": {
          "base_uri": "https://localhost:8080/"
        },
        "outputId": "7e9de6e2-6a9a-4552-8fcb-bbd7068f9372"
      },
      "source": [
        "def time_unix(ano, dia, hora, minuto, segundo):\n",
        "    ''' A partir do ano, dia do ano, hora, minuto e segundo calcula\n",
        "    quantos dias se passaram desde 00:00:00 de 1 de janeiro de 1970 '''\n",
        "    count_dia = dia\n",
        "    for i in range(1970, ano):\n",
        "        if i % 4 == 0 and i % 100 != 0 or i % 400 == 0:\n",
        "            count_dia = count_dia + 366\n",
        "        else:\n",
        "            count_dia = count_dia + 365\n",
        "    print(count_dia, 'dias', hora, 'horas', minuto, 'minutos', segundo, 'segundos') \n",
        "  \n",
        "\n",
        "time_unix(2021, 141, 14, 4, 00)"
      ],
      "execution_count": 12,
      "outputs": [
        {
          "output_type": "stream",
          "name": "stdout",
          "text": [
            "18769 dias 14 horas 4 minutos 0 segundos\n"
          ]
        }
      ]
    },
    {
      "cell_type": "markdown",
      "metadata": {
        "id": "6hc_4Pkr1sG8"
      },
      "source": [
        "\n",
        "2) O último teorema de Fermat diz que não existem números inteiros a, b e c tais que a**n + b**n == c**n para quaisquer valores de n maiores que 2.\n",
        "\n",
        "Escreva uma função chamada check_fermat que receba quatro parâmetros – a, b, c e n – e verifique se o teorema de Fermat se mantém. Se n for maior que 2 e a**n + b**n == c**n o programa deve imprimir, “Holy smokes, Fermat was wrong!” Senão o programa deve exibir “No, that doesn’t work.”"
      ]
    },
    {
      "cell_type": "code",
      "metadata": {
        "id": "neePkeH81yyq",
        "colab": {
          "base_uri": "https://localhost:8080/"
        },
        "outputId": "f27f150d-57fc-4259-becb-dffba4d30372"
      },
      "source": [
        "def check_fermat(a, b, c, n):\n",
        "    ''' It checks whether a**n + b**n == c**n for a, b and c integers is true\n",
        "    for n > 2. '''\n",
        "    if n > 2 and int(a)**n + int(b)**n == int(c)**n:\n",
        "        print('Holy smokes, Fermat was wrong!')\n",
        "    else: \n",
        "        print('No, that doesn’t work.')\n",
        "\n",
        "check_fermat(4, 3, 5, 2)   \n",
        "check_fermat(4, 8, 10, 4)\n",
        "check_fermat(9.8, 5.0, 16.0, 3)"
      ],
      "execution_count": 3,
      "outputs": [
        {
          "output_type": "stream",
          "name": "stdout",
          "text": [
            "No, that doesn’t work.\n",
            "No, that doesn’t work.\n",
            "No, that doesn’t work.\n"
          ]
        }
      ]
    },
    {
      "cell_type": "markdown",
      "metadata": {
        "id": "l7UDTPUj1zMy"
      },
      "source": [
        "b) Escreva uma função que peça ao usuário para digitar valores para a, b, c e n, os converta em números inteiros e use check_fermat para verificar se violam o teorema de Fermat."
      ]
    },
    {
      "cell_type": "code",
      "metadata": {
        "id": "_8s3Tev515Fs",
        "colab": {
          "base_uri": "https://localhost:8080/"
        },
        "outputId": "415b7fd4-0906-4385-fd0d-6527d4f0dd01"
      },
      "source": [
        "def check_fermat(a, b, c, n):\n",
        "    ''' It checks whether a**n + b**n == c**n for a, b and c integers is true\n",
        "    for n > 2. '''\n",
        "    if n > 2 and int(a)**n + int(b)**n == int(c)**n:\n",
        "        print('Holy smokes, Fermat was wrong!')\n",
        "    else: \n",
        "        print('No, that doesn’t work.')\n",
        "\n",
        "check_fermat(4, 3, 5, 2)   \n",
        "check_fermat(4, 8, 10, 4)\n",
        "check_fermat(9.8, 5.0, 16.0, 3)"
      ],
      "execution_count": 2,
      "outputs": [
        {
          "output_type": "stream",
          "name": "stdout",
          "text": [
            "No, that doesn’t work.\n",
            "No, that doesn’t work.\n",
            "No, that doesn’t work.\n"
          ]
        }
      ]
    },
    {
      "cell_type": "markdown",
      "metadata": {
        "id": "MIDl6nCA15VT"
      },
      "source": [
        "3) Há um teste simples para ver se é possível formar um triângulo para quaisquer três comprimentos: Se algum dos três comprimentos for maior que a soma dos outros dois, então você não pode formar um triângulo. Senão, você pode. (Se a soma de dois comprimentos igualar o terceiro, eles formam um triângulo chamado “degenerado”.)\n",
        "\n",
        "a) Escreva uma função chamada is_triangle que receba três números inteiros como argumentos, e que imprima “Yes” ou “No”, dependendo da possibilidade de formar ou não um triângulo de gravetos com os comprimentos dados."
      ]
    },
    {
      "cell_type": "code",
      "metadata": {
        "id": "ro0mrpXZ2BDs",
        "colab": {
          "base_uri": "https://localhost:8080/"
        },
        "outputId": "d1c9e19d-c828-49d6-b05d-0c377284c64b"
      },
      "source": [
        "def is_triangle(a, b, c):\n",
        "    \n",
        "    d = int(a)\n",
        "    e = int(b)\n",
        "    f = int(c)\n",
        "    if d > e + f or e > d + f or f > e + d:\n",
        "        print('No')\n",
        "    elif d == e + f or e == d + f or f == e + d:\n",
        "        print('Degenerate')\n",
        "    else:\n",
        "        print('Yes') \n",
        "\n",
        "is_triangle(5, 15, 8)\n",
        "is_triangle(10, 5, 5)\n",
        "is_triangle(3, 4, 5)"
      ],
      "execution_count": 1,
      "outputs": [
        {
          "output_type": "stream",
          "name": "stdout",
          "text": [
            "No\n",
            "Degenerate\n",
            "Yes\n"
          ]
        }
      ]
    },
    {
      "cell_type": "markdown",
      "metadata": {
        "id": "r6Z1HFA82BY2"
      },
      "source": [
        "\n",
        "4) Leia a próxima função e veja se consegue compreender o que ela faz (veja os exemplos no Capítulo 4). Então execute-a e veja se acertou."
      ]
    },
    {
      "cell_type": "code",
      "metadata": {
        "id": "dHd39-yX9mbX"
      },
      "source": [
        "import turtle\n",
        "\n",
        "lilo = turtle.Turtle()\n",
        "lilo.color(\"peach puff\")              #Configurações da tartaruga\n",
        "lilo.pensize(2)\n",
        "lilo.shape(\"turtle\")\n",
        "lilo.speed(10)\n",
        "t= lilo\n",
        "\n",
        "def draw(t, length, angle, n):\n",
        "    \n",
        "    if n == 0:\n",
        "        return\n",
        "    t.forward(length*n)\n",
        "    t.left(angle)\n",
        "    draw(t, length, angle, n-1)\n",
        "    t.right(2*angle)\n",
        "    draw(t, length, angle, n-1)\n",
        "    t.left(angle)\n",
        "    t.backward(length*n) \n",
        "\n",
        "draw(lilo, 20, 40, 4)"
      ],
      "execution_count": null,
      "outputs": []
    },
    {
      "cell_type": "markdown",
      "metadata": {
        "id": "0l37aSU02Jz6"
      },
      "source": [
        "\n",
        "5) A curva de Koch é um fractal que parece com o da Figura abaixo."
      ]
    },
    {
      "cell_type": "code",
      "metadata": {
        "id": "RSAX4izc2Njp"
      },
      "source": [
        "import turtle\n",
        "\n",
        "lilo = turtle.Turtle()\n",
        "lilo.color(\"peach puff\")              #Configurações da tartaruga\n",
        "lilo.pensize(2)\n",
        "lilo.shape(\"turtle\")\n",
        "lilo.speed(10)\n",
        "t= lilo\n",
        "\n",
        "lilo.penup()\n",
        "lilo.left(90)\n",
        "lilo.forward(200)\n",
        "lilo.left(180)\n",
        "lilo.pendown()\n",
        "\n",
        "def koch(t, length, n):\n",
        "    if n == 0:\n",
        "        t.forward(length)\n",
        "    elif length < 3:\n",
        "        t.forward(length)\n",
        "    else:\n",
        "        for angle in [60, -120, 60, 0]:\n",
        "            koch(t, length // 3, n - 1)\n",
        "            t.left(angle)\n",
        "    \n",
        "koch(lilo, 300, 3)\n"
      ],
      "execution_count": null,
      "outputs": []
    },
    {
      "cell_type": "code",
      "metadata": {
        "id": "fekbFGS093h6"
      },
      "source": [
        "import turtle\n",
        "\n",
        "lilo = turtle.Turtle()\n",
        "lilo.color(\"peach puff\")              #Configurações da tartaruga\n",
        "lilo.pensize(2)\n",
        "lilo.shape(\"turtle\")\n",
        "lilo.speed(10)\n",
        "t= lilo\n",
        "\n",
        "lilo.penup()\n",
        "lilo.left(90)\n",
        "lilo.forward(200)\n",
        "lilo.left(180)\n",
        "lilo.pendown()\n",
        "\n",
        "def draw_koch(t, length, n):\n",
        "    if n == 0:\n",
        "        return\n",
        "    elif length < 3:\n",
        "        t.forward(length)\n",
        "    #draw_koch(t, length/3, n - 1)\n",
        "    t.forward(length/3)\n",
        "    t.left(60)\n",
        "    t.forward(length/3)\n",
        "    t.right(120)\n",
        "    t.forward(length/3)\n",
        "    t.left(60)\n",
        "    t.forward(length/3)\n",
        "    t.left(60)\n",
        "    draw_koch(t, length, n - 1)\n",
        "    t.right(120)\n",
        "    draw_koch(t, length, n - 1)\n",
        "    t.left(60)\n",
        "    draw_koch(t, length, n - 1) \n",
        "    \n",
        "  \n",
        "draw_koch(lilo, 30, 3)"
      ],
      "execution_count": null,
      "outputs": []
    },
    {
      "cell_type": "code",
      "metadata": {
        "id": "-BtnOrpk95h4"
      },
      "source": [
        "import turtle\n",
        "\n",
        "lilo = turtle.Turtle()\n",
        "lilo.color(\"peach puff\")              #Configurações da tartaruga\n",
        "lilo.pensize(2)\n",
        "lilo.shape(\"turtle\")\n",
        "lilo.speed(10)\n",
        "t= lilo\n",
        "\n",
        "lilo.penup()\n",
        "lilo.left(90)\n",
        "lilo.forward(200)\n",
        "lilo.left(180)\n",
        "lilo.pendown()\n",
        "\n",
        "def draw_koch(t, length, n):\n",
        "    if n == 0:\n",
        "        t.forward(length)\n",
        "        return\n",
        "    elif length < 3:\n",
        "        t.forward(length)\n",
        "    draw_koch(t, length/3, n - 1)\n",
        "    t.left(60)\n",
        "    draw_koch(t, length/3, n - 1)\n",
        "    t.right(120)\n",
        "    draw_koch(t, length/3, n - 1)\n",
        "    t.left(60)\n",
        "    draw_koch(t, length/3, n - 1) \n",
        "  \n",
        "draw_koch(lilo, 300, 3)"
      ],
      "execution_count": null,
      "outputs": []
    },
    {
      "cell_type": "code",
      "metadata": {
        "id": "-hi-yfU598Dw"
      },
      "source": [
        "import turtle\n",
        "\n",
        "lilo = turtle.Turtle()\n",
        "lilo.color(\"snow\")              #Configurações da tartaruga\n",
        "lilo.pensize(2)\n",
        "lilo.shape(\"turtle\")\n",
        "lilo.speed(10)\n",
        "t= lilo\n",
        "\n",
        "lilo.penup()\n",
        "lilo.left(90)\n",
        "lilo.forward(200)\n",
        "lilo.left(180)\n",
        "lilo.pendown()\n",
        "\n",
        "def draw_koch(t, length, n):\n",
        "    if n == 0:\n",
        "        t.forward(length)\n",
        "        return\n",
        "    elif length < 3:\n",
        "        t.forward(length)\n",
        "    draw_koch(t, length/3, n - 1)\n",
        "    t.left(60)\n",
        "    draw_koch(t, length/3, n - 1)\n",
        "    t.right(120)\n",
        "    draw_koch(t, length/3, n - 1)\n",
        "    t.left(60)\n",
        "    draw_koch(t, length/3, n - 1) \n",
        "\n",
        "def snowflake(t, length, n):\n",
        "    \n",
        "    t.speed(13)\n",
        "    for i in range(3):\n",
        "        draw_koch(t, length, n) \n",
        "        t.right(120)\n",
        "\n",
        "snowflake(lilo, 200, 3)"
      ],
      "execution_count": null,
      "outputs": []
    }
  ]
}