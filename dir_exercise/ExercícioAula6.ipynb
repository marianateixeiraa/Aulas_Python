{
  "nbformat": 4,
  "nbformat_minor": 0,
  "metadata": {
    "colab": {
      "name": "ExercícioAula6.ipynb",
      "provenance": [],
      "authorship_tag": "ABX9TyOWCkZGvEr9mCpLHZ45dDeJ",
      "include_colab_link": true
    },
    "kernelspec": {
      "name": "python3",
      "display_name": "Python 3"
    },
    "language_info": {
      "name": "python"
    }
  },
  "cells": [
    {
      "cell_type": "markdown",
      "metadata": {
        "id": "view-in-github",
        "colab_type": "text"
      },
      "source": [
        "<a href=\"https://colab.research.google.com/github/marianateixeiraa/Aulas_Python/blob/main/dir_exercise/Exerc%C3%ADcioAula6.ipynb\" target=\"_parent\"><img src=\"https://colab.research.google.com/assets/colab-badge.svg\" alt=\"Open In Colab\"/></a>"
      ]
    },
    {
      "cell_type": "markdown",
      "metadata": {
        "id": "tqfTPDgDoMs6"
      },
      "source": [
        "\n",
        "1) Modifique-o para que o resultado seja um histograma, como o mostrado na figura abaixo. Amplie seu script para que seja possível passar ao programa dados (frequência), com o valor do bin (classe de frequência) e cores determinados pelo usuário.\n",
        "\n",
        "Adicione declarações condicionais à função para casos passíveis de gerar erros, como por exemplo, se alguma variável do argumento da função não for definida.\n"
      ]
    },
    {
      "cell_type": "code",
      "metadata": {
        "id": "NpngYyxtoMhN"
      },
      "source": [
        "import turtle\n",
        "\n",
        "#Configurações da forma da barra\n",
        "def drawBar(t, height):\n",
        "    \"\"\" Get turtle t to draw one bar, of height. \"\"\"\n",
        "    t.begin_fill()              \n",
        "    t.left(90)\n",
        "    t.forward(height)\n",
        "    t.write(str(height))\n",
        "    t.right(90)\n",
        "    t.forward(40)\n",
        "    t.right(90)\n",
        "    t.forward(height)\n",
        "    t.left(90)\n",
        "    t.end_fill()                \n",
        "\n",
        "#Configurações do histograma\n",
        "N = int(input(\"Quantos números? : \"))  \n",
        "print('Valores do histograma:')\n",
        "xs =[input() for i in range(N)]\n",
        "maxheight = max(xs)\n",
        "numbars = len(xs)\n",
        "border = int(input(\"Valor do bin:\"))\n",
        "\n",
        "#Configurações do fundo\n",
        "wn = turtle.Screen()    \n",
        "minhacor = input(\"Qual a cor do fundo?\")\n",
        "minhacor  \n",
        "wn.bgcolor(minhacor)\n",
        "\n",
        "#Configuração de cor da tartaruga\n",
        "lilo = turtle.Turtle() \n",
        "lilo.shape(\"turtle\")\n",
        "ttcolor = input(\"Qual a cor da tartaruga?\")\n",
        "ttcolor          \n",
        "lilo.color(ttcolor)\n",
        "\n",
        "#Cor de preencher:\n",
        "fillcolor = input(\"A cor que vai preencher os retangulos:\")\n",
        "fillcolor\n",
        "lilo.fillcolor(fillcolor)\n",
        "lilo.pensize(3)\n",
        "lilo.penup() \n",
        "lilo.goto(-200,-150) \n",
        "lilo.pendown() \n",
        "\n",
        "for a in xs:\n",
        "    drawBar(lilo, a)\n",
        "\n",
        "wn.exitonclick()"
      ],
      "execution_count": null,
      "outputs": []
    },
    {
      "cell_type": "markdown",
      "metadata": {
        "id": "kJxisXH6vOwD"
      },
      "source": [
        "Link direto: https://trinket.io/turtle/b13a3c0fd8"
      ]
    },
    {
      "cell_type": "markdown",
      "metadata": {
        "id": "TZSMMxfKoMTm"
      },
      "source": [
        "2)Repita o exercício 1) usando Manipulação de exceção em Python (pesquisem!!!!), com as cláusulas try e except. <=== A ser apresentado em sala de aula."
      ]
    },
    {
      "cell_type": "code",
      "metadata": {
        "id": "N-jqQ0pmoMFr"
      },
      "source": [
        ""
      ],
      "execution_count": null,
      "outputs": []
    },
    {
      "cell_type": "markdown",
      "metadata": {
        "id": "sYua4uDAktja"
      },
      "source": [
        "3) Desafio: Faça um programa equivalente ao do item 1., utilizando matplotlib e numpy ao invés de turtle"
      ]
    },
    {
      "cell_type": "code",
      "metadata": {
        "id": "4xY1XzgSq0S3",
        "colab": {
          "base_uri": "https://localhost:8080/",
          "height": 491
        },
        "outputId": "914dfdcf-4ea7-4441-ae8b-82a870955383"
      },
      "source": [
        "import numpy as np\n",
        "import matplotlib.mlab as mlab\n",
        "import matplotlib.pyplot as plt\n",
        "\n",
        "N = int(input(\"quantidades de classe dos histogramas : \"))  \n",
        "print('dado abaixo:')\n",
        "xs =[input() for i in range(N)]\n",
        "\n",
        "num_bins = int(input(\"valor do bin:\"))\n",
        "\n",
        "n, bins, patches = plt.hist(xs, num_bins, facecolor='hotpink', alpha=0.5)\n",
        "plt.show()"
      ],
      "execution_count": 12,
      "outputs": [
        {
          "name": "stdout",
          "output_type": "stream",
          "text": [
            "quantidades de classe dos histogramas : 10\n",
            "dado abaixo:\n",
            "100\n",
            "100\n",
            "100\n",
            "110\n",
            "110\n",
            "120\n",
            "130\n",
            "100\n",
            "100\n",
            "110\n",
            "valor do bin:10\n"
          ]
        },
        {
          "output_type": "display_data",
          "data": {
            "image/png": "[encoded data removed]",
            "text/plain": [
              "<Figure size 432x288 with 1 Axes>"
            ]
          },
          "metadata": {}
        }
      ]
    }
  ]
}