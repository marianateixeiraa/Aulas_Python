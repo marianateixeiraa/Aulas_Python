{
  "nbformat": 4,
  "nbformat_minor": 0,
  "metadata": {
    "colab": {
      "name": "ExercícioAula5B.ipynb",
      "provenance": [],
      "authorship_tag": "ABX9TyOjglwsSyXOcgfJGSgXGv65",
      "include_colab_link": true
    },
    "kernelspec": {
      "name": "python3",
      "display_name": "Python 3"
    },
    "language_info": {
      "name": "python"
    }
  },
  "cells": [
    {
      "cell_type": "markdown",
      "metadata": {
        "id": "view-in-github",
        "colab_type": "text"
      },
      "source": [
        "<a href=\"https://colab.research.google.com/github/marianateixeiraa/Aulas_Python/blob/main/dir_exercise/Exerc%C3%ADcioAula5B.ipynb\" target=\"_parent\"><img src=\"https://colab.research.google.com/assets/colab-badge.svg\" alt=\"Open In Colab\"/></a>"
      ]
    },
    {
      "cell_type": "markdown",
      "metadata": {
        "id": "Kam3GMLmrMmf"
      },
      "source": [
        "1) Escreva um conjunto apropriadamente geral de funções que possam desenhar flores como na Figura abaixo:"
      ]
    },
    {
      "cell_type": "code",
      "metadata": {
        "id": "QFaOYlNAqsTt"
      },
      "source": [
        "import turtle\n",
        "import math\n",
        " \n",
        "ll = turtle.Screen()                  #Configurar a janela e seus atributos\n",
        "ll.bgcolor(\"lightblue\")\n",
        "lilo = turtle.Turtle()  \n",
        "lilo.color(\"hot pink\")       #Configurações da tartaruga\n",
        "lilo.pensize(5)\n",
        "lilo.shape(\"turtle\")\n",
        "lilo.speed(10)\n",
        "t = lilo\n",
        "lilo.penup()\n",
        "lilo.goto(-150,-10)\n",
        "lilo.pendown()\n",
        "\n",
        "for i in range(50):\n",
        "    t.forward(300)\n",
        "    t.left(170)\n",
        " \n",
        "t.end_fill()\n",
        "turtle.done()"
      ],
      "execution_count": null,
      "outputs": []
    },
    {
      "cell_type": "markdown",
      "metadata": {
        "id": "9ZOmT-kMrQfx"
      },
      "source": [
        "2)Escreva um conjunto apropriadamente geral de funções que podem desenhar formas como na figura:"
      ]
    },
    {
      "cell_type": "code",
      "metadata": {
        "id": "GVCpCBB2rU2Z"
      },
      "source": [
        "import turtle\n",
        "import math\n",
        " \n",
        "ll = turtle.Screen()                  #Configurar a janela e seus atributos\n",
        "ll.bgcolor(\"lightblue\")\n",
        "lilo = turtle.Turtle()  \n",
        "lilo.color(\"hot pink\")       #Configurações da tartaruga\n",
        "lilo.pensize(5)\n",
        "lilo.shape(\"turtle\")\n",
        "lilo.speed(10)\n",
        "t = lilo\n",
        "\n",
        "def draw_petal(t, radius):\n",
        "    heading = t.heading()\n",
        "    t.circle(radius, 60)\n",
        "    t.left(120)\n",
        "    t.circle(radius, 60)\n",
        "    t.setheading(heading)\n",
        "\n",
        "my_radius = int(input(\"Qual o raio da flor?\"))\n",
        "my_petals = int(input(\"Quantas pétalas a flor terá? \"))\n",
        "\n",
        "for _ in range(my_petals):\n",
        "    draw_petal(lilo, my_radius)\n",
        "    lilo.left(360 /my_petals)\n"
      ],
      "execution_count": null,
      "outputs": []
    },
    {
      "cell_type": "markdown",
      "metadata": {
        "id": "uYYkK17vrVF2"
      },
      "source": [
        "3)Adicione instruções para desenhar o talo e folha da flor. Faça a refatoração apropriada para a interface da flor completa ficar \"limpa\"."
      ]
    },
    {
      "cell_type": "code",
      "metadata": {
        "id": "eCCW8b06rask"
      },
      "source": [
        "import turtle\n",
        "import math\n",
        "\n",
        "ll = turtle.Screen()                  #Configurar a janela e seus atributos\n",
        "ll.bgcolor(\"lightblue\")\n",
        "lilo = turtle.Turtle()  \n",
        "lilo.color(\"hot pink\")       #Configurações da tartaruga\n",
        "lilo.pensize(5)\n",
        "lilo.shape(\"turtle\")\n",
        "lilo.speed(10)\n",
        "t = lilo\n",
        "\n",
        "\n",
        "def poliline(t, n, comprimento, angulo) :\n",
        "    for i in range(n):\n",
        "        t.forward(comprimento)\n",
        "        t.left(angulo)\n",
        "        \n",
        "def arc(t, r, angulo):\n",
        "    comprimento_arco = 2 * math.pi * r * angulo / 360\n",
        "    n = int(comprimento_arco / 3) + 3 \n",
        "    comprimento_passo = comprimento_arco / n \n",
        "    angulo_passo = float(angulo) / n \n",
        "    poliline (t, n, comprimento_passo, angulo_passo)\n",
        "\n",
        "def petala (t, r):\n",
        "    heading = t.heading()\n",
        "    t.circle(r, 60)\n",
        "    t.left(120)\n",
        "    t.circle(r, 60)\n",
        "    t.setheading(heading)\n",
        " \n",
        "def talo (t,r,angulo) :\n",
        "    t.color(\"green\")\n",
        "    t.right(90)\n",
        "    t.forward(r)\n",
        "    t.left(90)\n",
        "    petala(t,r)\n",
        "    t.left(180-angulo)\n",
        "    petala(t,r)\n",
        "    t.left(90+angulo)\n",
        "    t.forward(r)\n",
        "    t.penup()\n",
        "    t.backward(2*r)\n",
        "    t.pendown()\n",
        "\n",
        "def flor (t,n,r,angulo) :\n",
        "    talo(t,r,angulo)\n",
        "    for i in range(n):\n",
        "      petala(t,r)\n",
        "      t.color(\"hotpink\")\n",
        "      t.left(10000/n)\n",
        "      \n",
        "flor(lilo,20,70,30)"
      ],
      "execution_count": null,
      "outputs": []
    },
    {
      "cell_type": "markdown",
      "metadata": {
        "id": "1sDTFzC-rjw-"
      },
      "source": [
        "5)escreva um programa que desenhe uma espiral arquimediana (ou um dos outros tipos)."
      ]
    },
    {
      "cell_type": "code",
      "metadata": {
        "id": "ZVZH1uTzrqEH"
      },
      "source": [
        "import turtle\n",
        "import math\n",
        "\n",
        "ll = turtle.Screen()                  #Configurar a janela e seus atributos\n",
        "ll.bgcolor(\"lightblue\")\n",
        "lilo = turtle.Turtle()  \n",
        "lilo.color(\"hot pink\")              #Configurações da tartaruga\n",
        "lilo.pensize(2)\n",
        "lilo.speed(100)\n",
        "turtle = lilo\n",
        "\n",
        "for i in range (3400) :\n",
        "    fi = i/40*math.pi\n",
        "    a = 1\n",
        "    x =(a*fi*math.sin(fi))\n",
        "    y =(a*fi*math.cos(fi))\n",
        "    turtle.goto(x,y)"
      ],
      "execution_count": null,
      "outputs": []
    }
  ]
}