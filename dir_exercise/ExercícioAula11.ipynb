{
  "nbformat": 4,
  "nbformat_minor": 0,
  "metadata": {
    "colab": {
      "name": "ExercícioAula11.ipynb",
      "provenance": [],
      "authorship_tag": "ABX9TyP0DK7s3oN7XMUbtUm9LlID",
      "include_colab_link": true
    },
    "kernelspec": {
      "name": "python3",
      "display_name": "Python 3"
    },
    "language_info": {
      "name": "python"
    }
  },
  "cells": [
    {
      "cell_type": "markdown",
      "metadata": {
        "id": "view-in-github",
        "colab_type": "text"
      },
      "source": [
        "<a href=\"https://colab.research.google.com/github/marianateixeiraa/Aulas_Python/blob/main/dir_exercise/Exerc%C3%ADcioAula11.ipynb\" target=\"_parent\"><img src=\"https://colab.research.google.com/assets/colab-badge.svg\" alt=\"Open In Colab\"/></a>"
      ]
    },
    {
      "cell_type": "markdown",
      "metadata": {
        "id": "ukK-2RFJjG9M"
      },
      "source": [
        "1. Utilizando dicionários e o método `get` dos dicionários, contrua a seguinte matriz em Python e acesse os valores de índices (0,3), (2,1), (4,3) e (2,2)\n",
        "\n",
        "\n",
        "![matrix](https://github.com/malbouis/Python_intro/blob/master/aulas_2019/pics/matrix_aula12.png?raw=1)"
      ]
    },
    {
      "cell_type": "code",
      "metadata": {
        "colab": {
          "base_uri": "https://localhost:8080/"
        },
        "id": "Icpr76QQen2I",
        "outputId": "5e0ced8b-d917-4518-fc83-64ae11e4ca0d"
      },
      "source": [
        "matrix =  {(0,0): 0, (0,1): 0, (0,2): 0, (0,3): 1, (0,4): 0,\n",
        "          (1,0): 0, (1,1): 0, (1,2): 0, (1,3): 0, (1,4): 0,\n",
        "          (2,0): 0, (2,1): 2, (2,2): 0, (2,3): 1, (2,4): 0,\n",
        "          (3,0): 0, (3,1): 0, (3,2): 0, (3,3): 0, (3,4): 0,\n",
        "          (4,0): 0, (4,1): 0, (4,2): 0, (4,3): 3, (4,4): 0}\n",
        "\n",
        "matrix.get((0,3))"
      ],
      "execution_count": 3,
      "outputs": [
        {
          "output_type": "execute_result",
          "data": {
            "text/plain": [
              "1"
            ]
          },
          "metadata": {},
          "execution_count": 3
        }
      ]
    },
    {
      "cell_type": "code",
      "metadata": {
        "colab": {
          "base_uri": "https://localhost:8080/"
        },
        "id": "iuhmVbSxj2gw",
        "outputId": "691f2ac3-9cc1-41bf-b71f-89f0cc572d4f"
      },
      "source": [
        "matrix.get((2,1))"
      ],
      "execution_count": 4,
      "outputs": [
        {
          "output_type": "execute_result",
          "data": {
            "text/plain": [
              "2"
            ]
          },
          "metadata": {},
          "execution_count": 4
        }
      ]
    },
    {
      "cell_type": "code",
      "metadata": {
        "colab": {
          "base_uri": "https://localhost:8080/"
        },
        "id": "1KgBBtX4kEtK",
        "outputId": "b4043f3e-c76d-440b-8847-17ad30fe9757"
      },
      "source": [
        "matrix.get((4,3))"
      ],
      "execution_count": 5,
      "outputs": [
        {
          "output_type": "execute_result",
          "data": {
            "text/plain": [
              "3"
            ]
          },
          "metadata": {},
          "execution_count": 5
        }
      ]
    },
    {
      "cell_type": "code",
      "metadata": {
        "colab": {
          "base_uri": "https://localhost:8080/"
        },
        "id": "3NIXn62QkNFL",
        "outputId": "9a661c26-f8de-4b7e-b2fd-9bdcf36aea64"
      },
      "source": [
        "matrix.get((2,2))"
      ],
      "execution_count": 6,
      "outputs": [
        {
          "output_type": "execute_result",
          "data": {
            "text/plain": [
              "0"
            ]
          },
          "metadata": {},
          "execution_count": 6
        }
      ]
    },
    {
      "cell_type": "markdown",
      "metadata": {
        "id": "BuNMc7XfjUqL"
      },
      "source": [
        "2. Contagem de Letras. \n",
        "\n",
        "  a.  Utilizando dicionários, escreva uma função que tome como argumento uma palavra (string) e  retorne um dicionário que tenha como ***key*** cada  letra da  palavra e como ***valor*** o número de vezes que ela aparece na palavra. Tal dicionário é chamado de **tabela de frequência**. ***Dica***: Utilize novamente o método `get` dos dicionários.\n",
        "\n",
        "  b.  Utilizando os métodos `sort` (referente a listas) e `items` (referente a dicionários), imprima na tela uma lista ordenada alfabeticamente da tabela de frequência obtida no item a."
      ]
    },
    {
      "cell_type": "code",
      "metadata": {
        "colab": {
          "base_uri": "https://localhost:8080/"
        },
        "id": "-e6HlaJejY3m",
        "outputId": "7d80fe96-c40c-4ca9-d42d-22fb28688ede"
      },
      "source": [
        "def count(palavra):\n",
        "  letras = {}\n",
        "  for i in palavra:\n",
        "    if i not in letras:\n",
        "      letras[i] = 1\n",
        "    else:\n",
        "      letras[i] += 1\n",
        "  \n",
        "  return letras\n",
        "\n",
        "c = count(\"paralelepipedo\")   \n",
        "\n",
        "for letras in sorted(c):         #sorted: constrói uma nova lista ordenada a partir de um iterável (c)\n",
        "  print(letras, c[letras])"
      ],
      "execution_count": 8,
      "outputs": [
        {
          "output_type": "stream",
          "name": "stdout",
          "text": [
            "a 2\n",
            "d 1\n",
            "e 3\n",
            "i 1\n",
            "l 2\n",
            "o 1\n",
            "p 3\n",
            "r 1\n"
          ]
        }
      ]
    }
  ]
}